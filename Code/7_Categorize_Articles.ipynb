{
 "cells": [
  {
   "cell_type": "code",
   "execution_count": 1,
   "metadata": {},
   "outputs": [],
   "source": [
    "import pandas as pd\n",
    "import os\n",
    "import datetime\n",
    "import pickle\n",
    "import re\n",
    "import time\n",
    "from collections import Counter\n",
    "import numpy as np\n",
    "from ast import literal_eval"
   ]
  },
  {
   "cell_type": "code",
   "execution_count": 2,
   "metadata": {},
   "outputs": [],
   "source": [
    "import spacy\n",
    "nlp = spacy.load('en_core_web_sm', disable=['parser', 'ner'])"
   ]
  },
  {
   "cell_type": "markdown",
   "metadata": {},
   "source": [
    "## 1. Import Regulatory Sections and Noun Chunks with Areas"
   ]
  },
  {
   "cell_type": "code",
   "execution_count": 3,
   "metadata": {
    "scrolled": true
   },
   "outputs": [
    {
     "name": "stdout",
     "output_type": "stream",
     "text": [
      "<class 'pandas.core.frame.DataFrame'>\n",
      "RangeIndex: 10645 entries, 0 to 10644\n",
      "Data columns (total 5 columns):\n",
      " #   Column       Non-Null Count  Dtype \n",
      "---  ------       --------------  ----- \n",
      " 0   nc_code      10645 non-null  int64 \n",
      " 1   noun_chunks  10645 non-null  object\n",
      " 2   rin          10645 non-null  object\n",
      " 3   area         10185 non-null  object\n",
      " 4   area_no      10645 non-null  int64 \n",
      "dtypes: int64(2), object(3)\n",
      "memory usage: 415.9+ KB\n",
      "None\n"
     ]
    }
   ],
   "source": [
    "# Noun chunks with areas\n",
    "nounchunks_area=pd.read_csv('/home/ec2-user/SageMaker/New Uncertainty/DictionaryOfRegulatoryNounChunks.csv')\n",
    "print(nounchunks_area.info())"
   ]
  },
  {
   "cell_type": "code",
   "execution_count": 4,
   "metadata": {},
   "outputs": [
    {
     "data": {
      "text/html": [
       "<div>\n",
       "<style scoped>\n",
       "    .dataframe tbody tr th:only-of-type {\n",
       "        vertical-align: middle;\n",
       "    }\n",
       "\n",
       "    .dataframe tbody tr th {\n",
       "        vertical-align: top;\n",
       "    }\n",
       "\n",
       "    .dataframe thead th {\n",
       "        text-align: right;\n",
       "    }\n",
       "</style>\n",
       "<table border=\"1\" class=\"dataframe\">\n",
       "  <thead>\n",
       "    <tr style=\"text-align: right;\">\n",
       "      <th></th>\n",
       "      <th>nc_code</th>\n",
       "      <th>noun_chunks</th>\n",
       "      <th>rin</th>\n",
       "      <th>area</th>\n",
       "      <th>area_no</th>\n",
       "    </tr>\n",
       "  </thead>\n",
       "  <tbody>\n",
       "    <tr>\n",
       "      <th>0</th>\n",
       "      <td>0</td>\n",
       "      <td>180-day exclusivity</td>\n",
       "      <td>0910-AC11</td>\n",
       "      <td>{1}</td>\n",
       "      <td>1</td>\n",
       "    </tr>\n",
       "    <tr>\n",
       "      <th>1</th>\n",
       "      <td>1</td>\n",
       "      <td>1983 amendment</td>\n",
       "      <td>2115-AB72</td>\n",
       "      <td>{2}</td>\n",
       "      <td>1</td>\n",
       "    </tr>\n",
       "    <tr>\n",
       "      <th>2</th>\n",
       "      <td>2</td>\n",
       "      <td>1988 amendment</td>\n",
       "      <td>1205-AB05</td>\n",
       "      <td>{4}</td>\n",
       "      <td>1</td>\n",
       "    </tr>\n",
       "    <tr>\n",
       "      <th>3</th>\n",
       "      <td>3</td>\n",
       "      <td>1990 farm bill</td>\n",
       "      <td>0584-AB28</td>\n",
       "      <td>{1}</td>\n",
       "      <td>1</td>\n",
       "    </tr>\n",
       "    <tr>\n",
       "      <th>4</th>\n",
       "      <td>4</td>\n",
       "      <td>1993 provision</td>\n",
       "      <td>0970-AB32,3206-AG31</td>\n",
       "      <td>{1}</td>\n",
       "      <td>1</td>\n",
       "    </tr>\n",
       "  </tbody>\n",
       "</table>\n",
       "</div>"
      ],
      "text/plain": [
       "   nc_code          noun_chunks                  rin area  area_no\n",
       "0        0  180-day exclusivity            0910-AC11  {1}        1\n",
       "1        1       1983 amendment            2115-AB72  {2}        1\n",
       "2        2       1988 amendment            1205-AB05  {4}        1\n",
       "3        3       1990 farm bill            0584-AB28  {1}        1\n",
       "4        4       1993 provision  0970-AB32,3206-AG31  {1}        1"
      ]
     },
     "execution_count": 4,
     "metadata": {},
     "output_type": "execute_result"
    }
   ],
   "source": [
    "nounchunks_area.head()"
   ]
  },
  {
   "cell_type": "code",
   "execution_count": 5,
   "metadata": {},
   "outputs": [
    {
     "name": "stdout",
     "output_type": "stream",
     "text": [
      "10185\n"
     ]
    }
   ],
   "source": [
    "# Convert to dictionary\n",
    "nounchunks_area=nounchunks_area[nounchunks_area['area_no']>0].set_index('noun_chunks')\n",
    "nounchunks_area_dict=nounchunks_area.to_dict()['area']\n",
    "print(len(nounchunks_area_dict))"
   ]
  },
  {
   "cell_type": "code",
   "execution_count": 6,
   "metadata": {},
   "outputs": [
    {
     "name": "stdout",
     "output_type": "stream",
     "text": [
      "<class 'pandas.core.frame.DataFrame'>\n",
      "RangeIndex: 990262 entries, 0 to 990261\n",
      "Data columns (total 15 columns):\n",
      " #   Column                       Non-Null Count   Dtype         \n",
      "---  ------                       --------------   -----         \n",
      " 0   ID                           990262 non-null  object        \n",
      " 1   Title                        990262 non-null  object        \n",
      " 2   Type                         990262 non-null  object        \n",
      " 3   StartDate                    990262 non-null  datetime64[ns]\n",
      " 4   EndDate                      990262 non-null  object        \n",
      " 5   TextWordCount                990262 non-null  object        \n",
      " 6   PubTitle                     990262 non-null  object        \n",
      " 7   SourceType                   990262 non-null  object        \n",
      " 8   Year                         990262 non-null  float64       \n",
      " 9   Month                        990262 non-null  float64       \n",
      " 10  Newspaper                    990262 non-null  object        \n",
      " 11  RegSentsExpand               990262 non-null  object        \n",
      " 12  RegSentExpandLength          990262 non-null  int64         \n",
      " 13  NounChunkMatchFiltered       990262 non-null  int64         \n",
      " 14  NounChunkMatchWordsFiltered  990262 non-null  object        \n",
      "dtypes: datetime64[ns](1), float64(2), int64(2), object(10)\n",
      "memory usage: 113.3+ MB\n",
      "None\n"
     ]
    }
   ],
   "source": [
    "# Expanded reg sentences with matched noun chunks\n",
    "df_regSentsExpand=pd.read_pickle('/home/ec2-user/SageMaker/New Uncertainty/Jan1985-Dec2021/RegSentsExpand_NounChunks.pkl')\n",
    "print(df_regSentsExpand.info())"
   ]
  },
  {
   "cell_type": "code",
   "execution_count": 7,
   "metadata": {},
   "outputs": [
    {
     "name": "stdout",
     "output_type": "stream",
     "text": [
      "<class 'pandas.core.frame.DataFrame'>\n",
      "RangeIndex: 608172 entries, 0 to 608171\n",
      "Data columns (total 15 columns):\n",
      " #   Column                       Non-Null Count   Dtype         \n",
      "---  ------                       --------------   -----         \n",
      " 0   ID                           608172 non-null  object        \n",
      " 1   Title                        608172 non-null  object        \n",
      " 2   Type                         608172 non-null  object        \n",
      " 3   StartDate                    608172 non-null  datetime64[ns]\n",
      " 4   EndDate                      608172 non-null  object        \n",
      " 5   TextWordCount                608172 non-null  object        \n",
      " 6   PubTitle                     608172 non-null  object        \n",
      " 7   SourceType                   608172 non-null  object        \n",
      " 8   Year                         608172 non-null  float64       \n",
      " 9   Month                        608172 non-null  float64       \n",
      " 10  Newspaper                    608172 non-null  object        \n",
      " 11  RegSentsExpand               608172 non-null  object        \n",
      " 12  RegSentExpandLength          608172 non-null  int64         \n",
      " 13  NounChunkMatchFiltered       608172 non-null  int64         \n",
      " 14  NounChunkMatchWordsFiltered  608172 non-null  object        \n",
      "dtypes: datetime64[ns](1), float64(2), int64(2), object(10)\n",
      "memory usage: 69.6+ MB\n",
      "None\n"
     ]
    }
   ],
   "source": [
    "# Refine to reg relevant articles\n",
    "df_regSentsExpandRelevant=df_regSentsExpand[df_regSentsExpand['NounChunkMatchFiltered']>0].reset_index(drop=True)\n",
    "print(df_regSentsExpandRelevant.info())"
   ]
  },
  {
   "cell_type": "markdown",
   "metadata": {},
   "source": [
    "## 2. Link Expanded Reg Sentences to Areas"
   ]
  },
  {
   "cell_type": "markdown",
   "metadata": {},
   "source": [
    "### Approach 4: dominant distinct area (dda): use the dominant areas from area-specific noun chunks (approach adopted in paper)"
   ]
  },
  {
   "cell_type": "code",
   "execution_count": 20,
   "metadata": {},
   "outputs": [
    {
     "name": "stderr",
     "output_type": "stream",
     "text": [
      "/home/ec2-user/SageMaker/.conda/envs/my_py/lib/python3.6/site-packages/ipykernel_launcher.py:11: SettingWithCopyWarning: \n",
      "A value is trying to be set on a copy of a slice from a DataFrame\n",
      "\n",
      "See the caveats in the documentation: https://pandas.pydata.org/pandas-docs/stable/user_guide/indexing.html#returning-a-view-versus-a-copy\n",
      "  # This is added back by InteractiveShellApp.init_path()\n"
     ]
    }
   ],
   "source": [
    "# Get all areas associated with area-specific noun chunks\n",
    "df_regSentsExpandRelevant['AllDistinctAreas']=''\n",
    "for i in range(0, len(df_regSentsExpandRelevant)):\n",
    "    nounchunks=df_regSentsExpandRelevant['NounChunkMatchWordsFiltered'][i]\n",
    "    area_list=[]\n",
    "    for nc in nounchunks:\n",
    "        if nc in nounchunks_area_dict:\n",
    "            area=sorted(literal_eval(nounchunks_area_dict[nc]))\n",
    "            if len(area)==1:\n",
    "                area_list=area_list+area\n",
    "    df_regSentsExpandRelevant['AllDistinctAreas'][i]=area_list"
   ]
  },
  {
   "cell_type": "code",
   "execution_count": 21,
   "metadata": {},
   "outputs": [
    {
     "name": "stderr",
     "output_type": "stream",
     "text": [
      "/home/ec2-user/SageMaker/.conda/envs/my_py/lib/python3.6/site-packages/ipykernel_launcher.py:8: SettingWithCopyWarning: \n",
      "A value is trying to be set on a copy of a slice from a DataFrame\n",
      "\n",
      "See the caveats in the documentation: https://pandas.pydata.org/pandas-docs/stable/user_guide/indexing.html#returning-a-view-versus-a-copy\n",
      "  \n",
      "/home/ec2-user/SageMaker/.conda/envs/my_py/lib/python3.6/site-packages/ipykernel_launcher.py:9: SettingWithCopyWarning: \n",
      "A value is trying to be set on a copy of a slice from a DataFrame\n",
      "\n",
      "See the caveats in the documentation: https://pandas.pydata.org/pandas-docs/stable/user_guide/indexing.html#returning-a-view-versus-a-copy\n",
      "  if __name__ == '__main__':\n"
     ]
    },
    {
     "name": "stdout",
     "output_type": "stream",
     "text": [
      "<class 'pandas.core.frame.DataFrame'>\n",
      "RangeIndex: 608172 entries, 0 to 608171\n",
      "Data columns (total 18 columns):\n",
      " #   Column                       Non-Null Count   Dtype         \n",
      "---  ------                       --------------   -----         \n",
      " 0   ID                           608172 non-null  object        \n",
      " 1   Title                        608172 non-null  object        \n",
      " 2   Type                         608172 non-null  object        \n",
      " 3   StartDate                    608172 non-null  datetime64[ns]\n",
      " 4   EndDate                      608172 non-null  object        \n",
      " 5   TextWordCount                608172 non-null  object        \n",
      " 6   PubTitle                     608172 non-null  object        \n",
      " 7   SourceType                   608172 non-null  object        \n",
      " 8   Year                         608172 non-null  float64       \n",
      " 9   Month                        608172 non-null  float64       \n",
      " 10  Newspaper                    608172 non-null  object        \n",
      " 11  RegSentsExpand               608172 non-null  object        \n",
      " 12  RegSentExpandLength          608172 non-null  int64         \n",
      " 13  NounChunkMatchFiltered       608172 non-null  int64         \n",
      " 14  NounChunkMatchWordsFiltered  608172 non-null  object        \n",
      " 15  DistinctAreaCount            608172 non-null  object        \n",
      " 16  DominantDistinctArea         608172 non-null  object        \n",
      " 17  AllDistinctAreas             608172 non-null  object        \n",
      "dtypes: datetime64[ns](1), float64(2), int64(2), object(13)\n",
      "memory usage: 83.5+ MB\n",
      "None\n"
     ]
    }
   ],
   "source": [
    "# Get the dominant area(s)\n",
    "df_regSentsExpandRelevant['DistinctAreaCount']=''\n",
    "df_regSentsExpandRelevant['DominantDistinctArea']=''\n",
    "for i in range(0, len(df_regSentsExpandRelevant)):\n",
    "    area_list=df_regSentsExpandRelevant['AllDistinctAreas'][i]\n",
    "    area_count=Counter(area_list).most_common()\n",
    "    dominant_area=[j for j in Counter(area_list).keys() if area_list.count(j)==max(Counter(area_list).values())]\n",
    "    df_regSentsExpandRelevant['DistinctAreaCount'][i]=area_count\n",
    "    df_regSentsExpandRelevant['DominantDistinctArea'][i]=dominant_area\n",
    "print(df_regSentsExpandRelevant.info())"
   ]
  },
  {
   "cell_type": "code",
   "execution_count": 24,
   "metadata": {},
   "outputs": [
    {
     "name": "stdout",
     "output_type": "stream",
     "text": [
      "   DistinctAreaCount DominantDistinctArea AllDistinctAreas\n",
      "0                 []                   []               []\n",
      "1  [(10, 2), (1, 1)]                 [10]      [1, 10, 10]\n",
      "2           [(6, 1)]                  [6]              [6]\n",
      "3           [(7, 1)]                  [7]              [7]\n",
      "4                 []                   []               []\n"
     ]
    }
   ],
   "source": [
    "print(df_regSentsExpandRelevant[['DistinctAreaCount','DominantDistinctArea','AllDistinctAreas']].head())"
   ]
  },
  {
   "cell_type": "markdown",
   "metadata": {},
   "source": [
    "### Create dummies for areas"
   ]
  },
  {
   "cell_type": "code",
   "execution_count": 28,
   "metadata": {},
   "outputs": [
    {
     "name": "stderr",
     "output_type": "stream",
     "text": [
      "/home/ec2-user/SageMaker/.conda/envs/my_py/lib/python3.6/site-packages/ipykernel_launcher.py:7: SettingWithCopyWarning: \n",
      "A value is trying to be set on a copy of a slice from a DataFrame\n",
      "\n",
      "See the caveats in the documentation: https://pandas.pydata.org/pandas-docs/stable/user_guide/indexing.html#returning-a-view-versus-a-copy\n",
      "  import sys\n"
     ]
    },
    {
     "name": "stdout",
     "output_type": "stream",
     "text": [
      "<class 'pandas.core.frame.DataFrame'>\n",
      "RangeIndex: 608172 entries, 0 to 608171\n",
      "Data columns (total 32 columns):\n",
      " #   Column                       Non-Null Count   Dtype         \n",
      "---  ------                       --------------   -----         \n",
      " 0   ID                           608172 non-null  object        \n",
      " 1   Title                        608172 non-null  object        \n",
      " 2   Type                         608172 non-null  object        \n",
      " 3   StartDate                    608172 non-null  datetime64[ns]\n",
      " 4   EndDate                      608172 non-null  object        \n",
      " 5   TextWordCount                608172 non-null  object        \n",
      " 6   PubTitle                     608172 non-null  object        \n",
      " 7   SourceType                   608172 non-null  object        \n",
      " 8   Year                         608172 non-null  float64       \n",
      " 9   Month                        608172 non-null  float64       \n",
      " 10  Newspaper                    608172 non-null  object        \n",
      " 11  RegSentsExpand               608172 non-null  object        \n",
      " 12  RegSentExpandLength          608172 non-null  int64         \n",
      " 13  NounChunkMatchFiltered       608172 non-null  int64         \n",
      " 14  NounChunkMatchWordsFiltered  608172 non-null  object        \n",
      " 15  DistinctAreaCount            608172 non-null  object        \n",
      " 16  DominantDistinctArea         608172 non-null  object        \n",
      " 17  AllDistinctAreas             608172 non-null  object        \n",
      " 18  DominantDistinctArea1        608172 non-null  int64         \n",
      " 19  DominantDistinctArea2        608172 non-null  int64         \n",
      " 20  DominantDistinctArea3        608172 non-null  int64         \n",
      " 21  DominantDistinctArea4        608172 non-null  int64         \n",
      " 22  DominantDistinctArea5        608172 non-null  int64         \n",
      " 23  DominantDistinctArea6        608172 non-null  int64         \n",
      " 24  DominantDistinctArea7        608172 non-null  int64         \n",
      " 25  DominantDistinctArea8        608172 non-null  int64         \n",
      " 26  DominantDistinctArea9        608172 non-null  int64         \n",
      " 27  DominantDistinctArea10       608172 non-null  int64         \n",
      " 28  DominantDistinctArea11       608172 non-null  int64         \n",
      " 29  DominantDistinctArea12       608172 non-null  int64         \n",
      " 30  DominantDistinctArea13       608172 non-null  int64         \n",
      " 31  DominantDistinctArea14       608172 non-null  int64         \n",
      "dtypes: datetime64[ns](1), float64(2), int64(16), object(13)\n",
      "memory usage: 148.5+ MB\n",
      "None\n"
     ]
    }
   ],
   "source": [
    "area_range=15\n",
    "for i in range(1,area_range):\n",
    "    var='DominantDistinctArea'+str(i)\n",
    "    df_regSentsExpandRelevant[var]=0\n",
    "    for j in range(0, len(df_regSentsExpandRelevant)):\n",
    "        if i in df_regSentsExpandRelevant['DominantDistinctArea'][j]:\n",
    "            df_regSentsExpandRelevant[var][j]=1\n",
    "print(df_regSentsExpandRelevant.info())"
   ]
  },
  {
   "cell_type": "markdown",
   "metadata": {},
   "source": [
    "## 3. Merge with sentiment scores"
   ]
  },
  {
   "cell_type": "code",
   "execution_count": 29,
   "metadata": {},
   "outputs": [
    {
     "name": "stdout",
     "output_type": "stream",
     "text": [
      "<class 'pandas.core.frame.DataFrame'>\n",
      "RangeIndex: 608172 entries, 0 to 608171\n",
      "Data columns (total 8 columns):\n",
      " #   Column            Non-Null Count   Dtype  \n",
      "---  ------            --------------   -----  \n",
      " 0   ID                608172 non-null  int64  \n",
      " 1   StartDate         608172 non-null  object \n",
      " 2   Newspaper         608172 non-null  object \n",
      " 3   PubTitle          608172 non-null  object \n",
      " 4   UncertaintyScore  608172 non-null  float64\n",
      " 5   GIscore           608172 non-null  float64\n",
      " 6   LMscore           608172 non-null  float64\n",
      " 7   LSDscore          608172 non-null  float64\n",
      "dtypes: float64(4), int64(1), object(3)\n",
      "memory usage: 37.1+ MB\n",
      "None\n"
     ]
    }
   ],
   "source": [
    "# Merge with sentiment scores\n",
    "sentimentScores=pd.read_csv('/home/ec2-user/SageMaker/New Uncertainty/Jan1985-Dec2021/RegRelevant_ArticleSentimentScores.csv')\n",
    "print(sentimentScores.info())"
   ]
  },
  {
   "cell_type": "code",
   "execution_count": 30,
   "metadata": {},
   "outputs": [
    {
     "name": "stdout",
     "output_type": "stream",
     "text": [
      "<class 'pandas.core.frame.DataFrame'>\n",
      "Int64Index: 608172 entries, 0 to 608171\n",
      "Data columns (total 36 columns):\n",
      " #   Column                       Non-Null Count   Dtype         \n",
      "---  ------                       --------------   -----         \n",
      " 0   ID                           608172 non-null  object        \n",
      " 1   Title                        608172 non-null  object        \n",
      " 2   Type                         608172 non-null  object        \n",
      " 3   StartDate                    608172 non-null  datetime64[ns]\n",
      " 4   EndDate                      608172 non-null  object        \n",
      " 5   TextWordCount                608172 non-null  object        \n",
      " 6   PubTitle                     608172 non-null  object        \n",
      " 7   SourceType                   608172 non-null  object        \n",
      " 8   Year                         608172 non-null  float64       \n",
      " 9   Month                        608172 non-null  float64       \n",
      " 10  Newspaper                    608172 non-null  object        \n",
      " 11  RegSentsExpand               608172 non-null  object        \n",
      " 12  RegSentExpandLength          608172 non-null  int64         \n",
      " 13  NounChunkMatchFiltered       608172 non-null  int64         \n",
      " 14  NounChunkMatchWordsFiltered  608172 non-null  object        \n",
      " 15  DistinctAreaCount            608172 non-null  object        \n",
      " 16  DominantDistinctArea         608172 non-null  object        \n",
      " 17  AllDistinctAreas             608172 non-null  object        \n",
      " 18  DominantDistinctArea1        608172 non-null  int64         \n",
      " 19  DominantDistinctArea2        608172 non-null  int64         \n",
      " 20  DominantDistinctArea3        608172 non-null  int64         \n",
      " 21  DominantDistinctArea4        608172 non-null  int64         \n",
      " 22  DominantDistinctArea5        608172 non-null  int64         \n",
      " 23  DominantDistinctArea6        608172 non-null  int64         \n",
      " 24  DominantDistinctArea7        608172 non-null  int64         \n",
      " 25  DominantDistinctArea8        608172 non-null  int64         \n",
      " 26  DominantDistinctArea9        608172 non-null  int64         \n",
      " 27  DominantDistinctArea10       608172 non-null  int64         \n",
      " 28  DominantDistinctArea11       608172 non-null  int64         \n",
      " 29  DominantDistinctArea12       608172 non-null  int64         \n",
      " 30  DominantDistinctArea13       608172 non-null  int64         \n",
      " 31  DominantDistinctArea14       608172 non-null  int64         \n",
      " 32  UncertaintyScore             608172 non-null  float64       \n",
      " 33  GIscore                      608172 non-null  float64       \n",
      " 34  LMscore                      608172 non-null  float64       \n",
      " 35  LSDscore                     608172 non-null  float64       \n",
      "dtypes: datetime64[ns](1), float64(6), int64(16), object(13)\n",
      "memory usage: 171.7+ MB\n",
      "None\n"
     ]
    }
   ],
   "source": [
    "# Merge\n",
    "sentimentScores['ID']=sentimentScores['ID'].astype('str')\n",
    "df=df_regSentsExpandRelevant.merge(sentimentScores[['ID','UncertaintyScore','GIscore','LMscore','LSDscore']],on='ID',how='left')\n",
    "print(df.info())"
   ]
  },
  {
   "cell_type": "code",
   "execution_count": 31,
   "metadata": {},
   "outputs": [],
   "source": [
    "df.to_csv('/home/ec2-user/SageMaker/New Uncertainty/Jan1985-Dec2021/RegArea_ArticleSentimentScores.csv',index=False)"
   ]
  },
  {
   "cell_type": "markdown",
   "metadata": {},
   "source": [
    "## 4. Monthly article counts by area"
   ]
  },
  {
   "cell_type": "code",
   "execution_count": null,
   "metadata": {},
   "outputs": [],
   "source": [
    "df=pd.read_csv('/home/ec2-user/SageMaker/New Uncertainty/Jan1985-Dec2021/RegArea_ArticleSentimentScores.csv',\n",
    "               converters={'DominantDistinctArea': pd.eval})\n",
    "print(df.info())"
   ]
  },
  {
   "cell_type": "code",
   "execution_count": 18,
   "metadata": {},
   "outputs": [],
   "source": [
    "# Area count for each article\n",
    "dda_list=df['DominantDistinctArea'].tolist()\n",
    "area_counts=[]\n",
    "for area in dda_list:\n",
    "    count=len(area)\n",
    "    area_counts.append(count)\n",
    "df['DominantDistinctAreaCount']=area_counts"
   ]
  },
  {
   "cell_type": "code",
   "execution_count": 21,
   "metadata": {},
   "outputs": [
    {
     "name": "stdout",
     "output_type": "stream",
     "text": [
      "       DominantDistinctArea  DominantDistinctAreaCount\n",
      "608167                   []                          0\n",
      "608168                  [3]                          1\n",
      "608169                  [1]                          1\n",
      "608170                   []                          0\n",
      "608171                  [1]                          1\n"
     ]
    }
   ],
   "source": [
    "print(df[['DominantDistinctArea','DominantDistinctAreaCount']].tail())"
   ]
  },
  {
   "cell_type": "code",
   "execution_count": 20,
   "metadata": {},
   "outputs": [
    {
     "name": "stdout",
     "output_type": "stream",
     "text": [
      "# of articles with an area classification: 424791\n"
     ]
    }
   ],
   "source": [
    "# Total article count\n",
    "print(\"# of articles with an area classification:\",len(df[df['DominantDistinctAreaCount']>0]))"
   ]
  },
  {
   "cell_type": "code",
   "execution_count": 5,
   "metadata": {},
   "outputs": [
    {
     "name": "stdout",
     "output_type": "stream",
     "text": [
      "['DominantDistinctArea1', 'DominantDistinctArea2', 'DominantDistinctArea3', 'DominantDistinctArea4', 'DominantDistinctArea5', 'DominantDistinctArea6', 'DominantDistinctArea7', 'DominantDistinctArea8', 'DominantDistinctArea9', 'DominantDistinctArea10', 'DominantDistinctArea11', 'DominantDistinctArea12', 'DominantDistinctArea13', 'DominantDistinctArea14']\n"
     ]
    }
   ],
   "source": [
    "# List of columns for different approaches\n",
    "area_range=15    # Number of areas + 1\n",
    "col_list=[]\n",
    "for i in range(1,area_range):\n",
    "    var='DominantDistinctArea'+str(i)\n",
    "    col_list.append(var)\n",
    "print(col_list)"
   ]
  },
  {
   "cell_type": "code",
   "execution_count": 6,
   "metadata": {},
   "outputs": [
    {
     "name": "stdout",
     "output_type": "stream",
     "text": [
      "<class 'pandas.core.frame.DataFrame'>\n",
      "RangeIndex: 3057 entries, 0 to 3056\n",
      "Data columns (total 17 columns):\n",
      " #   Column                  Non-Null Count  Dtype  \n",
      "---  ------                  --------------  -----  \n",
      " 0   Newspaper               3057 non-null   object \n",
      " 1   Year                    3057 non-null   float64\n",
      " 2   Month                   3057 non-null   float64\n",
      " 3   DominantDistinctArea1   3057 non-null   int64  \n",
      " 4   DominantDistinctArea2   3057 non-null   int64  \n",
      " 5   DominantDistinctArea3   3057 non-null   int64  \n",
      " 6   DominantDistinctArea4   3057 non-null   int64  \n",
      " 7   DominantDistinctArea5   3057 non-null   int64  \n",
      " 8   DominantDistinctArea6   3057 non-null   int64  \n",
      " 9   DominantDistinctArea7   3057 non-null   int64  \n",
      " 10  DominantDistinctArea8   3057 non-null   int64  \n",
      " 11  DominantDistinctArea9   3057 non-null   int64  \n",
      " 12  DominantDistinctArea10  3057 non-null   int64  \n",
      " 13  DominantDistinctArea11  3057 non-null   int64  \n",
      " 14  DominantDistinctArea12  3057 non-null   int64  \n",
      " 15  DominantDistinctArea13  3057 non-null   int64  \n",
      " 16  DominantDistinctArea14  3057 non-null   int64  \n",
      "dtypes: float64(2), int64(14), object(1)\n",
      "memory usage: 406.1+ KB\n",
      "None\n"
     ]
    }
   ],
   "source": [
    "# Aggregate monthly article counts\n",
    "monthlyAreaCount=df[['Newspaper','Year','Month']+col_list].groupby(['Newspaper','Year','Month']).agg('sum').reset_index()\n",
    "print(monthlyAreaCount.info())"
   ]
  },
  {
   "cell_type": "code",
   "execution_count": 7,
   "metadata": {},
   "outputs": [],
   "source": [
    "monthlyAreaCount.to_csv('/home/ec2-user/SageMaker/New Uncertainty/Jan1985-Dec2021/RegArea_MonthlyArticleCountByNewspaper.csv',index=False)"
   ]
  },
  {
   "cell_type": "markdown",
   "metadata": {},
   "source": [
    "## 5. Filtered Noun Chunk Occurences by Area"
   ]
  },
  {
   "cell_type": "code",
   "execution_count": 29,
   "metadata": {},
   "outputs": [
    {
     "name": "stdout",
     "output_type": "stream",
     "text": [
      "<class 'pandas.core.frame.DataFrame'>\n",
      "RangeIndex: 608172 entries, 0 to 608171\n",
      "Data columns (total 36 columns):\n",
      " #   Column                       Non-Null Count   Dtype  \n",
      "---  ------                       --------------   -----  \n",
      " 0   ID                           608172 non-null  int64  \n",
      " 1   Title                        608172 non-null  object \n",
      " 2   Type                         608172 non-null  object \n",
      " 3   StartDate                    608172 non-null  object \n",
      " 4   EndDate                      608172 non-null  object \n",
      " 5   TextWordCount                608172 non-null  int64  \n",
      " 6   PubTitle                     608172 non-null  object \n",
      " 7   SourceType                   608172 non-null  object \n",
      " 8   Year                         608172 non-null  float64\n",
      " 9   Month                        608172 non-null  float64\n",
      " 10  Newspaper                    608172 non-null  object \n",
      " 11  RegSentsExpand               608172 non-null  object \n",
      " 12  RegSentExpandLength          608172 non-null  int64  \n",
      " 13  NounChunkMatchFiltered       608172 non-null  int64  \n",
      " 14  NounChunkMatchWordsFiltered  608172 non-null  object \n",
      " 15  DistinctAreaCount            608172 non-null  object \n",
      " 16  DominantDistinctArea         608172 non-null  object \n",
      " 17  AllDistinctAreas             608172 non-null  object \n",
      " 18  DominantDistinctArea1        608172 non-null  int64  \n",
      " 19  DominantDistinctArea2        608172 non-null  int64  \n",
      " 20  DominantDistinctArea3        608172 non-null  int64  \n",
      " 21  DominantDistinctArea4        608172 non-null  int64  \n",
      " 22  DominantDistinctArea5        608172 non-null  int64  \n",
      " 23  DominantDistinctArea6        608172 non-null  int64  \n",
      " 24  DominantDistinctArea7        608172 non-null  int64  \n",
      " 25  DominantDistinctArea8        608172 non-null  int64  \n",
      " 26  DominantDistinctArea9        608172 non-null  int64  \n",
      " 27  DominantDistinctArea10       608172 non-null  int64  \n",
      " 28  DominantDistinctArea11       608172 non-null  int64  \n",
      " 29  DominantDistinctArea12       608172 non-null  int64  \n",
      " 30  DominantDistinctArea13       608172 non-null  int64  \n",
      " 31  DominantDistinctArea14       608172 non-null  int64  \n",
      " 32  UncertaintyScore             608172 non-null  float64\n",
      " 33  GIscore                      608172 non-null  float64\n",
      " 34  LMscore                      608172 non-null  float64\n",
      " 35  LSDscore                     608172 non-null  float64\n",
      "dtypes: float64(6), int64(18), object(12)\n",
      "memory usage: 167.0+ MB\n",
      "None\n"
     ]
    }
   ],
   "source": [
    "# Reg relevant articles\n",
    "df=pd.read_csv('/home/ec2-user/SageMaker/New Uncertainty/Jan1985-Dec2021/RegArea_ArticleSentimentScores.csv')\n",
    "print(df.info())"
   ]
  },
  {
   "cell_type": "code",
   "execution_count": 30,
   "metadata": {},
   "outputs": [
    {
     "name": "stdout",
     "output_type": "stream",
     "text": [
      "<class 'pandas.core.frame.DataFrame'>\n",
      "RangeIndex: 10458 entries, 0 to 10457\n",
      "Data columns (total 2 columns):\n",
      " #   Column       Non-Null Count  Dtype \n",
      "---  ------       --------------  ----- \n",
      " 0   Noun Chunks  10458 non-null  object\n",
      " 1   Occurences   10458 non-null  int64 \n",
      "dtypes: int64(1), object(1)\n",
      "memory usage: 163.5+ KB\n",
      "None\n"
     ]
    }
   ],
   "source": [
    "# Filtered noun chunk occurences across regulation-related articles\n",
    "df_nounchunk_occurences=pd.read_csv('/home/ec2-user/SageMaker/New Uncertainty/Jan1985-Dec2021/RegSentsExpand_FilteredNounChunkOccurences.csv')\n",
    "print(df_nounchunk_occurences.info())"
   ]
  },
  {
   "cell_type": "code",
   "execution_count": 31,
   "metadata": {},
   "outputs": [
    {
     "name": "stdout",
     "output_type": "stream",
     "text": [
      "15        ['Environmental Quality', 'new standard', 'env...\n",
      "16                                             ['new drug']\n",
      "19                          ['poison ivy', 'Public Health']\n",
      "35        ['Federal Reserve', 'other security', 'federal...\n",
      "36                        ['retail store', 'security firm']\n",
      "                                ...                        \n",
      "608146    ['suspicious order', 'witness testimony', 'dis...\n",
      "608147    ['electronic health record', 'regulatory burden']\n",
      "608161                ['research grant', 'federal funding']\n",
      "608169    ['suspicious order', 'witness testimony', 'dis...\n",
      "608171                                    ['public health']\n",
      "Name: NounChunkMatchWordsFiltered, Length: 68291, dtype: object\n"
     ]
    }
   ],
   "source": [
    "# An example\n",
    "print(df[df['DominantDistinctArea1']==1]['NounChunkMatchWordsFiltered'])"
   ]
  },
  {
   "cell_type": "code",
   "execution_count": 35,
   "metadata": {},
   "outputs": [
    {
     "name": "stdout",
     "output_type": "stream",
     "text": [
      "['environmental quality', 'new standard', 'environmental policy', 'agency regulation', 'new standard', 'wetland regulation']\n"
     ]
    }
   ],
   "source": [
    "print(literal_eval(df[df['DominantDistinctArea1']==1]['NounChunkMatchWordsFiltered'][15].lower()))"
   ]
  },
  {
   "cell_type": "code",
   "execution_count": 36,
   "metadata": {},
   "outputs": [
    {
     "name": "stdout",
     "output_type": "stream",
     "text": [
      "          Noun Chunks  Occurences  Occurences_dda1  Occurences_dda2  \\\n",
      "0      new regulation       36661           3690.0           2044.0   \n",
      "1  federal regulation       26358           4375.0           1790.0   \n",
      "2         health care       22508           5257.0           1524.0   \n",
      "3     federal reserve       21068           1193.0            889.0   \n",
      "4         real estate       20205           1161.0           1112.0   \n",
      "\n",
      "   Occurences_dda3  Occurences_dda4  Occurences_dda5  Occurences_dda6  \\\n",
      "0          30395.0            631.0           4003.0            409.0   \n",
      "1           2911.0            615.0           3428.0            624.0   \n",
      "2           1758.0            529.0           1453.0            548.0   \n",
      "3           1356.0            165.0           1362.0            118.0   \n",
      "4           1213.0            233.0           1559.0            186.0   \n",
      "\n",
      "   Occurences_dda7  Occurences_dda8  Occurences_dda9  Occurences_dda10  \\\n",
      "0           4724.0           1866.0            412.0             289.0   \n",
      "1           3505.0           1549.0            436.0             242.0   \n",
      "2           4322.0           1420.0            436.0             243.0   \n",
      "3          10010.0           1897.0            394.0             180.0   \n",
      "4           6226.0           1658.0            404.0             138.0   \n",
      "\n",
      "   Occurences_dda11  Occurences_dda12  Occurences_dda13  Occurences_dda14  \n",
      "0             337.0             294.0            1667.0             204.0  \n",
      "1             307.0             332.0            1235.0             146.0  \n",
      "2             240.0             291.0            1679.0              79.0  \n",
      "3             106.0             105.0            1384.0              65.0  \n",
      "4             202.0             155.0            1978.0              74.0  \n"
     ]
    }
   ],
   "source": [
    "# Filtered noun chunks across regulation-related articles by area\n",
    "for i in range(1,15):\n",
    "    allMatchWords=[]\n",
    "    for list in df[df['DominantDistinctArea'+str(i)]==1]['NounChunkMatchWordsFiltered']:\n",
    "        allMatchWords=allMatchWords+literal_eval(list.lower())\n",
    "    allMatchWordsCount=Counter(allMatchWords)\n",
    "    var_name='Occurences_dda'+str(i)\n",
    "    df_MatchWords = pd.DataFrame(allMatchWordsCount.items(),columns = ['Noun Chunks',var_name])\n",
    "    df_nounchunk_occurences=df_nounchunk_occurences.merge(df_MatchWords,on='Noun Chunks',how='outer')\n",
    "print(df_nounchunk_occurences.head())"
   ]
  },
  {
   "cell_type": "code",
   "execution_count": 37,
   "metadata": {},
   "outputs": [],
   "source": [
    "df_nounchunk_occurences.to_csv('/home/ec2-user/SageMaker/New Uncertainty/Jan1985-Dec2021/RegArea_FilteredNounChunkOccurences.csv',index=False)"
   ]
  },
  {
   "cell_type": "code",
   "execution_count": null,
   "metadata": {},
   "outputs": [],
   "source": []
  }
 ],
 "metadata": {
  "kernelspec": {
   "display_name": "my_py",
   "language": "python",
   "name": "my_py"
  },
  "language_info": {
   "codemirror_mode": {
    "name": "ipython",
    "version": 3
   },
   "file_extension": ".py",
   "mimetype": "text/x-python",
   "name": "python",
   "nbconvert_exporter": "python",
   "pygments_lexer": "ipython3",
   "version": "3.6.10"
  }
 },
 "nbformat": 4,
 "nbformat_minor": 4
}
