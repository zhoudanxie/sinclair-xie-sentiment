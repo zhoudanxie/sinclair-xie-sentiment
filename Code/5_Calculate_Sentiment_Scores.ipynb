{
 "cells": [
  {
   "cell_type": "code",
   "execution_count": 1,
   "metadata": {},
   "outputs": [],
   "source": [
    "import pandas as pd\n",
    "import os\n",
    "import datetime\n",
    "import pickle\n",
    "import re\n",
    "import time"
   ]
  },
  {
   "cell_type": "code",
   "execution_count": 2,
   "metadata": {},
   "outputs": [
    {
     "name": "stdout",
     "output_type": "stream",
     "text": [
      "<class 'pandas.core.frame.DataFrame'>\n",
      "RangeIndex: 990262 entries, 0 to 990261\n",
      "Data columns (total 15 columns):\n",
      " #   Column                       Non-Null Count   Dtype         \n",
      "---  ------                       --------------   -----         \n",
      " 0   ID                           990262 non-null  object        \n",
      " 1   Title                        990262 non-null  object        \n",
      " 2   Type                         990262 non-null  object        \n",
      " 3   StartDate                    990262 non-null  datetime64[ns]\n",
      " 4   EndDate                      990262 non-null  object        \n",
      " 5   TextWordCount                990262 non-null  object        \n",
      " 6   PubTitle                     990262 non-null  object        \n",
      " 7   SourceType                   990262 non-null  object        \n",
      " 8   Year                         990262 non-null  float64       \n",
      " 9   Month                        990262 non-null  float64       \n",
      " 10  Newspaper                    990262 non-null  object        \n",
      " 11  RegSentsExpand               990262 non-null  object        \n",
      " 12  RegSentExpandLength          990262 non-null  int64         \n",
      " 13  NounChunkMatchFiltered       990262 non-null  int64         \n",
      " 14  NounChunkMatchWordsFiltered  990262 non-null  object        \n",
      "dtypes: datetime64[ns](1), float64(2), int64(2), object(10)\n",
      "memory usage: 113.3+ MB\n",
      "None\n"
     ]
    }
   ],
   "source": [
    "# All unique articles\n",
    "df=pd.read_pickle('/home/ec2-user/SageMaker/New Uncertainty/Jan1985-Dec2021/RegSentsExpand_NounChunks.pkl')\n",
    "print(df.info())"
   ]
  },
  {
   "cell_type": "code",
   "execution_count": 3,
   "metadata": {},
   "outputs": [
    {
     "name": "stdout",
     "output_type": "stream",
     "text": [
      "<class 'pandas.core.frame.DataFrame'>\n",
      "RangeIndex: 990262 entries, 0 to 990261\n",
      "Data columns (total 16 columns):\n",
      " #   Column                       Non-Null Count   Dtype         \n",
      "---  ------                       --------------   -----         \n",
      " 0   ID                           990262 non-null  object        \n",
      " 1   Title                        990262 non-null  object        \n",
      " 2   Type                         990262 non-null  object        \n",
      " 3   StartDate                    990262 non-null  datetime64[ns]\n",
      " 4   EndDate                      990262 non-null  object        \n",
      " 5   TextWordCount                990262 non-null  object        \n",
      " 6   PubTitle                     990262 non-null  object        \n",
      " 7   SourceType                   990262 non-null  object        \n",
      " 8   Year                         990262 non-null  float64       \n",
      " 9   Month                        990262 non-null  float64       \n",
      " 10  Newspaper                    990262 non-null  object        \n",
      " 11  RegSentsExpand               990262 non-null  object        \n",
      " 12  RegSentExpandLength          990262 non-null  int64         \n",
      " 13  NounChunkMatchFiltered       990262 non-null  int64         \n",
      " 14  NounChunkMatchWordsFiltered  990262 non-null  object        \n",
      " 15  RegRelevance                 608172 non-null  float64       \n",
      "dtypes: datetime64[ns](1), float64(3), int64(2), object(10)\n",
      "memory usage: 120.9+ MB\n",
      "None\n"
     ]
    }
   ],
   "source": [
    "# Use filtered noun chunk matches to define reg relevance\n",
    "df.loc[df['NounChunkMatchFiltered']!=0,'RegRelevance']=1\n",
    "print(df.info())"
   ]
  },
  {
   "cell_type": "code",
   "execution_count": 5,
   "metadata": {},
   "outputs": [
    {
     "name": "stdout",
     "output_type": "stream",
     "text": [
      "<class 'pandas.core.frame.DataFrame'>\n",
      "RangeIndex: 990262 entries, 0 to 990261\n",
      "Data columns (total 3 columns):\n",
      " #   Column            Non-Null Count   Dtype \n",
      "---  ------            --------------   ----- \n",
      " 0   ID                990262 non-null  int64 \n",
      " 1   UncertaintyCount  990262 non-null  int64 \n",
      " 2   UncertaintyWords  990262 non-null  object\n",
      "dtypes: int64(2), object(1)\n",
      "memory usage: 22.7+ MB\n",
      "None\n"
     ]
    }
   ],
   "source": [
    "# LM uncertainty scores\n",
    "LMuncertainty=pd.read_csv('/home/ec2-user/SageMaker/New Uncertainty/Jan1985-Dec2021/LMuncertainty.csv')\n",
    "print(LMuncertainty.info())"
   ]
  },
  {
   "cell_type": "code",
   "execution_count": 6,
   "metadata": {},
   "outputs": [
    {
     "name": "stdout",
     "output_type": "stream",
     "text": [
      "<class 'pandas.core.frame.DataFrame'>\n",
      "RangeIndex: 990262 entries, 0 to 990261\n",
      "Data columns (total 3 columns):\n",
      " #   Column            Non-Null Count   Dtype \n",
      "---  ------            --------------   ----- \n",
      " 0   ID                990262 non-null  object\n",
      " 1   UncertaintyCount  990262 non-null  int64 \n",
      " 2   UncertaintyWords  990262 non-null  object\n",
      "dtypes: int64(1), object(2)\n",
      "memory usage: 22.7+ MB\n",
      "None\n"
     ]
    }
   ],
   "source": [
    "LMuncertainty['ID']=LMuncertainty['ID'].astype('str')\n",
    "print(LMuncertainty.info())"
   ]
  },
  {
   "cell_type": "code",
   "execution_count": 7,
   "metadata": {},
   "outputs": [
    {
     "name": "stdout",
     "output_type": "stream",
     "text": [
      "<class 'pandas.core.frame.DataFrame'>\n",
      "Int64Index: 990262 entries, 0 to 990261\n",
      "Data columns (total 18 columns):\n",
      " #   Column                       Non-Null Count   Dtype         \n",
      "---  ------                       --------------   -----         \n",
      " 0   ID                           990262 non-null  object        \n",
      " 1   Title                        990262 non-null  object        \n",
      " 2   Type                         990262 non-null  object        \n",
      " 3   StartDate                    990262 non-null  datetime64[ns]\n",
      " 4   EndDate                      990262 non-null  object        \n",
      " 5   TextWordCount                990262 non-null  object        \n",
      " 6   PubTitle                     990262 non-null  object        \n",
      " 7   SourceType                   990262 non-null  object        \n",
      " 8   Year                         990262 non-null  float64       \n",
      " 9   Month                        990262 non-null  float64       \n",
      " 10  Newspaper                    990262 non-null  object        \n",
      " 11  RegSentsExpand               990262 non-null  object        \n",
      " 12  RegSentExpandLength          990262 non-null  int64         \n",
      " 13  NounChunkMatchFiltered       990262 non-null  int64         \n",
      " 14  NounChunkMatchWordsFiltered  990262 non-null  object        \n",
      " 15  RegRelevance                 608172 non-null  float64       \n",
      " 16  UncertaintyCount             990262 non-null  int64         \n",
      " 17  UncertaintyWords             990262 non-null  object        \n",
      "dtypes: datetime64[ns](1), float64(3), int64(3), object(11)\n",
      "memory usage: 143.5+ MB\n",
      "None\n"
     ]
    }
   ],
   "source": [
    "# Merge\n",
    "df2=df.merge(LMuncertainty,on='ID',how='right')\n",
    "print(df2.info())"
   ]
  },
  {
   "cell_type": "code",
   "execution_count": 8,
   "metadata": {},
   "outputs": [
    {
     "name": "stdout",
     "output_type": "stream",
     "text": [
      "<class 'pandas.core.frame.DataFrame'>\n",
      "RangeIndex: 990262 entries, 0 to 990261\n",
      "Data columns (total 6 columns):\n",
      " #   Column          Non-Null Count   Dtype \n",
      "---  ------          --------------   ----- \n",
      " 0   ID              990262 non-null  object\n",
      " 1   TotalWordCount  990262 non-null  int64 \n",
      " 2   GIposCount      990262 non-null  int64 \n",
      " 3   GInegCount      990262 non-null  int64 \n",
      " 4   GIposWords      990262 non-null  object\n",
      " 5   GInegWords      990262 non-null  object\n",
      "dtypes: int64(3), object(3)\n",
      "memory usage: 45.3+ MB\n",
      "None\n"
     ]
    }
   ],
   "source": [
    "# GI sentiments\n",
    "GIsentiments=pd.read_csv('/home/ec2-user/SageMaker/New Uncertainty/Jan1985-Dec2021/GIsentiments.csv')\n",
    "GIsentiments['ID']=GIsentiments['ID'].astype('str')\n",
    "print(GIsentiments.info())"
   ]
  },
  {
   "cell_type": "code",
   "execution_count": 9,
   "metadata": {},
   "outputs": [
    {
     "name": "stdout",
     "output_type": "stream",
     "text": [
      "<class 'pandas.core.frame.DataFrame'>\n",
      "RangeIndex: 990262 entries, 0 to 990261\n",
      "Data columns (total 5 columns):\n",
      " #   Column       Non-Null Count   Dtype \n",
      "---  ------       --------------   ----- \n",
      " 0   ID           990262 non-null  object\n",
      " 1   LSDposCount  990262 non-null  int64 \n",
      " 2   LSDnegCount  990262 non-null  int64 \n",
      " 3   LSDposWords  990262 non-null  object\n",
      " 4   LSDnegWords  990262 non-null  object\n",
      "dtypes: int64(2), object(3)\n",
      "memory usage: 37.8+ MB\n",
      "None\n"
     ]
    }
   ],
   "source": [
    "# LSD sentiments\n",
    "LSDsentiments=pd.read_csv('/home/ec2-user/SageMaker/New Uncertainty/Jan1985-Dec2021/LSDsentiments.csv')\n",
    "LSDsentiments['ID']=LSDsentiments['ID'].astype('str')\n",
    "print(LSDsentiments.info())"
   ]
  },
  {
   "cell_type": "code",
   "execution_count": 10,
   "metadata": {},
   "outputs": [
    {
     "name": "stdout",
     "output_type": "stream",
     "text": [
      "<class 'pandas.core.frame.DataFrame'>\n",
      "RangeIndex: 990262 entries, 0 to 990261\n",
      "Data columns (total 5 columns):\n",
      " #   Column      Non-Null Count   Dtype \n",
      "---  ------      --------------   ----- \n",
      " 0   ID          990262 non-null  object\n",
      " 1   LMposCount  990262 non-null  int64 \n",
      " 2   LMnegCount  990262 non-null  int64 \n",
      " 3   LMposWords  990262 non-null  object\n",
      " 4   LMnegWords  990262 non-null  object\n",
      "dtypes: int64(2), object(3)\n",
      "memory usage: 37.8+ MB\n",
      "None\n"
     ]
    }
   ],
   "source": [
    "# LM sentiments\n",
    "LMsentiments=pd.read_csv('/home/ec2-user/SageMaker/New Uncertainty/Jan1985-Dec2021/LMsentiments.csv')\n",
    "LMsentiments['ID']=LMsentiments['ID'].astype('str')\n",
    "print(LMsentiments.info())"
   ]
  },
  {
   "cell_type": "code",
   "execution_count": 11,
   "metadata": {},
   "outputs": [
    {
     "name": "stdout",
     "output_type": "stream",
     "text": [
      "<class 'pandas.core.frame.DataFrame'>\n",
      "Int64Index: 990262 entries, 0 to 990261\n",
      "Data columns (total 31 columns):\n",
      " #   Column                       Non-Null Count   Dtype         \n",
      "---  ------                       --------------   -----         \n",
      " 0   ID                           990262 non-null  object        \n",
      " 1   Title                        990262 non-null  object        \n",
      " 2   Type                         990262 non-null  object        \n",
      " 3   StartDate                    990262 non-null  datetime64[ns]\n",
      " 4   EndDate                      990262 non-null  object        \n",
      " 5   TextWordCount                990262 non-null  object        \n",
      " 6   PubTitle                     990262 non-null  object        \n",
      " 7   SourceType                   990262 non-null  object        \n",
      " 8   Year                         990262 non-null  float64       \n",
      " 9   Month                        990262 non-null  float64       \n",
      " 10  Newspaper                    990262 non-null  object        \n",
      " 11  RegSentsExpand               990262 non-null  object        \n",
      " 12  RegSentExpandLength          990262 non-null  int64         \n",
      " 13  NounChunkMatchFiltered       990262 non-null  int64         \n",
      " 14  NounChunkMatchWordsFiltered  990262 non-null  object        \n",
      " 15  RegRelevance                 608172 non-null  float64       \n",
      " 16  UncertaintyCount             990262 non-null  int64         \n",
      " 17  UncertaintyWords             990262 non-null  object        \n",
      " 18  TotalWordCount               990262 non-null  int64         \n",
      " 19  GIposCount                   990262 non-null  int64         \n",
      " 20  GInegCount                   990262 non-null  int64         \n",
      " 21  GIposWords                   990262 non-null  object        \n",
      " 22  GInegWords                   990262 non-null  object        \n",
      " 23  LMposCount                   990262 non-null  int64         \n",
      " 24  LMnegCount                   990262 non-null  int64         \n",
      " 25  LMposWords                   990262 non-null  object        \n",
      " 26  LMnegWords                   990262 non-null  object        \n",
      " 27  LSDposCount                  990262 non-null  int64         \n",
      " 28  LSDnegCount                  990262 non-null  int64         \n",
      " 29  LSDposWords                  990262 non-null  object        \n",
      " 30  LSDnegWords                  990262 non-null  object        \n",
      "dtypes: datetime64[ns](1), float64(3), int64(10), object(17)\n",
      "memory usage: 241.8+ MB\n",
      "None\n"
     ]
    }
   ],
   "source": [
    "# Merge\n",
    "df3=df2.merge(GIsentiments,on='ID',how='left').\\\n",
    "    merge(LMsentiments,on='ID',how='left').\\\n",
    "    merge(LSDsentiments,on='ID',how='left')\n",
    "print(df3.info())"
   ]
  },
  {
   "cell_type": "code",
   "execution_count": 13,
   "metadata": {},
   "outputs": [
    {
     "name": "stdout",
     "output_type": "stream",
     "text": [
      "<class 'pandas.core.frame.DataFrame'>\n",
      "Int64Index: 990262 entries, 0 to 990261\n",
      "Data columns (total 35 columns):\n",
      " #   Column                       Non-Null Count   Dtype         \n",
      "---  ------                       --------------   -----         \n",
      " 0   ID                           990262 non-null  object        \n",
      " 1   Title                        990262 non-null  object        \n",
      " 2   Type                         990262 non-null  object        \n",
      " 3   StartDate                    990262 non-null  datetime64[ns]\n",
      " 4   EndDate                      990262 non-null  object        \n",
      " 5   TextWordCount                990262 non-null  object        \n",
      " 6   PubTitle                     990262 non-null  object        \n",
      " 7   SourceType                   990262 non-null  object        \n",
      " 8   Year                         990262 non-null  float64       \n",
      " 9   Month                        990262 non-null  float64       \n",
      " 10  Newspaper                    990262 non-null  object        \n",
      " 11  RegSentsExpand               990262 non-null  object        \n",
      " 12  RegSentExpandLength          990262 non-null  int64         \n",
      " 13  NounChunkMatchFiltered       990262 non-null  int64         \n",
      " 14  NounChunkMatchWordsFiltered  990262 non-null  object        \n",
      " 15  RegRelevance                 608172 non-null  float64       \n",
      " 16  UncertaintyCount             990262 non-null  int64         \n",
      " 17  UncertaintyWords             990262 non-null  object        \n",
      " 18  TotalWordCount               990262 non-null  int64         \n",
      " 19  GIposCount                   990262 non-null  int64         \n",
      " 20  GInegCount                   990262 non-null  int64         \n",
      " 21  GIposWords                   990262 non-null  object        \n",
      " 22  GInegWords                   990262 non-null  object        \n",
      " 23  LMposCount                   990262 non-null  int64         \n",
      " 24  LMnegCount                   990262 non-null  int64         \n",
      " 25  LMposWords                   990262 non-null  object        \n",
      " 26  LMnegWords                   990262 non-null  object        \n",
      " 27  LSDposCount                  990262 non-null  int64         \n",
      " 28  LSDnegCount                  990262 non-null  int64         \n",
      " 29  LSDposWords                  990262 non-null  object        \n",
      " 30  LSDnegWords                  990262 non-null  object        \n",
      " 31  UncertaintyScore             943766 non-null  float64       \n",
      " 32  GIscore                      943766 non-null  float64       \n",
      " 33  LSDscore                     943766 non-null  float64       \n",
      " 34  LMscore                      943766 non-null  float64       \n",
      "dtypes: datetime64[ns](1), float64(7), int64(10), object(17)\n",
      "memory usage: 272.0+ MB\n",
      "None\n"
     ]
    }
   ],
   "source": [
    "# Calculate scores\n",
    "df3['UncertaintyScore']=df3['UncertaintyCount']/df3['TotalWordCount']*100\n",
    "for dic in ['GI','LSD','LM']:\n",
    "    df3[dic+'score']=(df3[dic+'posCount']-df3[dic+'negCount'])/df3['TotalWordCount']*100\n",
    "print(df3.info())"
   ]
  },
  {
   "cell_type": "code",
   "execution_count": 19,
   "metadata": {},
   "outputs": [
    {
     "name": "stdout",
     "output_type": "stream",
     "text": [
      "                ID RegSentsExpand  NounChunkMatchFiltered\n",
      "381      294314085                                      0\n",
      "559      294345870                                      0\n",
      "608      294249140                                      0\n",
      "718      294290863                                      0\n",
      "792      294247001                                      0\n",
      "...            ...            ...                     ...\n",
      "989977  2610985065                                      0\n",
      "989998  2611050480                                      0\n",
      "990062  2612064676                                      0\n",
      "990079  2612463089                                      0\n",
      "990248  2615508225                                      0\n",
      "\n",
      "[46496 rows x 3 columns]\n"
     ]
    }
   ],
   "source": [
    "print(df3[df3['TotalWordCount']==0][['ID','RegSentsExpand','NounChunkMatchFiltered']])"
   ]
  },
  {
   "cell_type": "code",
   "execution_count": 14,
   "metadata": {},
   "outputs": [],
   "source": [
    "# Export all data\n",
    "df3.to_pickle('/home/ec2-user/SageMaker/New Uncertainty/Jan1985-Dec2021/RegRelevant_ArticleSentimentWordsScores.pkl')"
   ]
  },
  {
   "cell_type": "code",
   "execution_count": 15,
   "metadata": {},
   "outputs": [
    {
     "name": "stdout",
     "output_type": "stream",
     "text": [
      "<class 'pandas.core.frame.DataFrame'>\n",
      "Int64Index: 990262 entries, 0 to 990261\n",
      "Data columns (total 8 columns):\n",
      " #   Column            Non-Null Count   Dtype         \n",
      "---  ------            --------------   -----         \n",
      " 0   ID                990262 non-null  object        \n",
      " 1   StartDate         990262 non-null  datetime64[ns]\n",
      " 2   Newspaper         990262 non-null  object        \n",
      " 3   PubTitle          990262 non-null  object        \n",
      " 4   UncertaintyScore  943766 non-null  float64       \n",
      " 5   GIscore           943766 non-null  float64       \n",
      " 6   LMscore           943766 non-null  float64       \n",
      " 7   LSDscore          943766 non-null  float64       \n",
      "dtypes: datetime64[ns](1), float64(4), object(3)\n",
      "memory usage: 68.0+ MB\n",
      "None\n"
     ]
    }
   ],
   "source": [
    "# Export sentiment scores only\n",
    "sentimentScores=df3[['ID','StartDate','Newspaper','PubTitle','UncertaintyScore','GIscore','LMscore','LSDscore']]\n",
    "print(sentimentScores.info())"
   ]
  },
  {
   "cell_type": "code",
   "execution_count": 16,
   "metadata": {},
   "outputs": [],
   "source": [
    "sentimentScores.to_csv('/home/ec2-user/SageMaker/New Uncertainty/Jan1985-Dec2021/RegRelevant_ArticleSentimentScores.csv',index=False)"
   ]
  },
  {
   "cell_type": "code",
   "execution_count": null,
   "metadata": {},
   "outputs": [],
   "source": []
  }
 ],
 "metadata": {
  "kernelspec": {
   "display_name": "my_py",
   "language": "python",
   "name": "my_py"
  },
  "language_info": {
   "codemirror_mode": {
    "name": "ipython",
    "version": 3
   },
   "file_extension": ".py",
   "mimetype": "text/x-python",
   "name": "python",
   "nbconvert_exporter": "python",
   "pygments_lexer": "ipython3",
   "version": "3.6.10"
  }
 },
 "nbformat": 4,
 "nbformat_minor": 4
}
