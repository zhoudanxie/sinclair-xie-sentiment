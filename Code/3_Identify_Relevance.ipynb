{
 "cells": [
  {
   "cell_type": "code",
   "execution_count": 37,
   "metadata": {},
   "outputs": [],
   "source": [
    "import pandas as pd\n",
    "import os\n",
    "import datetime\n",
    "import pickle\n",
    "import re\n",
    "import time\n",
    "from collections import Counter\n",
    "import numpy as np\n",
    "import random"
   ]
  },
  {
   "cell_type": "code",
   "execution_count": 38,
   "metadata": {},
   "outputs": [],
   "source": [
    "import nltk\n",
    "nltk.data.path\n",
    "from nltk.tokenize import sent_tokenize, word_tokenize"
   ]
  },
  {
   "cell_type": "code",
   "execution_count": 39,
   "metadata": {},
   "outputs": [],
   "source": [
    "import spacy\n",
    "nlp = spacy.load('en_core_web_sm', disable=['parser', 'ner'])"
   ]
  },
  {
   "cell_type": "code",
   "execution_count": 40,
   "metadata": {},
   "outputs": [],
   "source": [
    "from sklearn.feature_extraction.text import CountVectorizer\n",
    "from sklearn.feature_extraction.text import TfidfTransformer\n",
    "from sklearn.feature_extraction.text import TfidfVectorizer"
   ]
  },
  {
   "cell_type": "markdown",
   "metadata": {},
   "source": [
    "## 3.1 Match regulatory noun chunks"
   ]
  },
  {
   "cell_type": "code",
   "execution_count": 18,
   "metadata": {},
   "outputs": [],
   "source": [
    "# Define a text preprocessor (lemmatizer)\n",
    "def my_preprocessor(text):\n",
    "    doc=nlp(text)\n",
    "    lemmas=[token.lemma_ for token in doc if not token.is_punct | token.is_space]\n",
    "    texts_out=\" \".join(lemmas)\n",
    "    return texts_out"
   ]
  },
  {
   "cell_type": "code",
   "execution_count": 19,
   "metadata": {},
   "outputs": [
    {
     "name": "stdout",
     "output_type": "stream",
     "text": [
      "<class 'pandas.core.frame.DataFrame'>\n",
      "RangeIndex: 10645 entries, 0 to 10644\n",
      "Data columns (total 5 columns):\n",
      " #   Column       Non-Null Count  Dtype \n",
      "---  ------       --------------  ----- \n",
      " 0   nc_code      10645 non-null  int64 \n",
      " 1   noun_chunks  10645 non-null  object\n",
      " 2   rin          10645 non-null  object\n",
      " 3   area         10185 non-null  object\n",
      " 4   area_no      10645 non-null  int64 \n",
      "dtypes: int64(2), object(3)\n",
      "memory usage: 415.9+ KB\n",
      "None\n"
     ]
    }
   ],
   "source": [
    "# Use the dictionary of regulatory noun chunks\n",
    "df_nounchunks=pd.read_csv('/home/ec2-user/SageMaker/New Uncertainty/DictionaryOfRegulatoryNounChunks.csv')\n",
    "print(df_nounchunks.info())"
   ]
  },
  {
   "cell_type": "code",
   "execution_count": 20,
   "metadata": {},
   "outputs": [
    {
     "name": "stdout",
     "output_type": "stream",
     "text": [
      "10645 ['180-day exclusivity', '1983 amendment', '1988 amendment', '1990 farm bill', '1993 provision', '1994 amendment', '1995 amendment', '1996 agreement', '1996 amendment', '1996 farm bill', '1996 regulation', '1996 telecom act', '1996 telecommunication act', '1999 deadline', '1999 quota', '2002 revision', '2005 amendment', '2005 rule', '2005 transportation bill', '2007 implementation']\n"
     ]
    }
   ],
   "source": [
    "nounchunks=df_nounchunks['noun_chunks'].tolist()\n",
    "print(len(nounchunks),nounchunks[0:20])"
   ]
  },
  {
   "cell_type": "code",
   "execution_count": 29,
   "metadata": {},
   "outputs": [
    {
     "name": "stdout",
     "output_type": "stream",
     "text": [
      "<class 'pandas.core.frame.DataFrame'>\n",
      "RangeIndex: 990262 entries, 0 to 990261\n",
      "Data columns (total 13 columns):\n",
      " #   Column               Non-Null Count   Dtype         \n",
      "---  ------               --------------   -----         \n",
      " 0   ID                   990262 non-null  object        \n",
      " 1   Title                990262 non-null  object        \n",
      " 2   Type                 990262 non-null  object        \n",
      " 3   StartDate            990262 non-null  datetime64[ns]\n",
      " 4   EndDate              990262 non-null  object        \n",
      " 5   TextWordCount        990262 non-null  object        \n",
      " 6   PubTitle             990262 non-null  object        \n",
      " 7   SourceType           990262 non-null  object        \n",
      " 8   Year                 990262 non-null  float64       \n",
      " 9   Month                990262 non-null  float64       \n",
      " 10  Newspaper            990262 non-null  object        \n",
      " 11  RegSentsExpand       990262 non-null  object        \n",
      " 12  RegSentExpandLength  990262 non-null  int64         \n",
      "dtypes: datetime64[ns](1), float64(2), int64(1), object(9)\n",
      "memory usage: 98.2+ MB\n",
      "None\n"
     ]
    }
   ],
   "source": [
    "# Import expanded reg sentences\n",
    "df_regSentsExpand=pd.read_pickle('/home/ec2-user/SageMaker/New Uncertainty/Jan1985-Dec2021/allRegSentsExpand.pkl')\n",
    "print(df_regSentsExpand.info())"
   ]
  },
  {
   "cell_type": "code",
   "execution_count": 30,
   "metadata": {},
   "outputs": [
    {
     "name": "stdout",
     "output_type": "stream",
     "text": [
      "990262 \"You can move in tomorrow and you won't have to do one thing to fix it up.\" \"Deregulation of natural gas will lower your heating bills.\" \"Our latest model will give you 40 miles to the gallon.\"\n"
     ]
    }
   ],
   "source": [
    "# Convert reg sentences to list\n",
    "regSentsExpand=df_regSentsExpand['RegSentsExpand'].tolist()\n",
    "print(len(regSentsExpand), regSentsExpand[0])"
   ]
  },
  {
   "cell_type": "code",
   "execution_count": 31,
   "metadata": {},
   "outputs": [
    {
     "name": "stdout",
     "output_type": "stream",
     "text": [
      "Suddenly, with new Federal Communications Commission regulations promising even greater resurgence, New England hams like Carp find their avocation no longer looks like the faintly outdated fiddling of science nerds and aging Cub Scouts. The FCC announced last January that, effective, as hams say, 0001 March 21, 1987, it would permit substantially enhanced privileges for novice operators, including the transmission of voice. Since a loosening of regulations in late March, the FCC office in Gettysburg, Pa., has reported a three-fold increase in monthly license applications. Known to his radio friends as K-1-Hotel-Lima- Zulu, Carp operates as one of thousands of amateur radio enthusiasts in New England, where by all indications the hobby is flourishing. That removed a key impediment, especially to the involvement of younger aspirants, who previously had bridled at stringent ham licensing regulations requiring new radio operators to use Morse code. Now even novices can send their voice out into the ionosphere. The number of ham adherents is up, prices for start-up equipment are down. From a fairly stable figure of 128,000 memberships two years ago, the Relay League advanced to more than 145,000 in February. This week, according to the FCC, some 428,710 hams are licensed to deploy their dark banks of components, their busy racks of dials and tangles of wires, in basements and attics and spare bedrooms from Barnstable to Barrow, Squantum to Seattle.\n",
      "suddenly with new Federal Communications Commission regulation promise even great resurgence New England ham like Carp find -PRON- avocation no longer look like the faintly outdate fiddling of science nerd and age Cub Scouts the FCC announce last January that effective as hams say 0001 March 21 1987 -PRON- would permit substantially enhance privilege for novice operator include the transmission of voice since a loosening of regulation in late March the FCC office in Gettysburg Pennsylvania have report a three fold increase in monthly license application know to -PRON- radio friend as K-1-Hotel lima- Zulu Carp operate as one of thousand of amateur radio enthusiast in New England where by all indication the hobby be flourish that remove a key impediment especially to the involvement of young aspirant who previously have bridle at stringent ham licensing regulation require new radio operator to use morse code now even novice can send -PRON- voice out into the ionosphere the number of ham adherent be up price for start up equipment be down from a fairly stable figure of 128,000 membership two year ago the Relay League advance to more than 145,000 in February this week accord to the FCC some 428,710 ham be license to deploy -PRON- dark bank of component -PRON- busy rack of dial and tangle of wire in basement and attic and spare bedroom from Barnstable to Barrow squantum to Seattle\n"
     ]
    }
   ],
   "source": [
    "print(regSentsExpand[4031])\n",
    "print(my_preprocessor(regSentsExpand[4031]))"
   ]
  },
  {
   "cell_type": "code",
   "execution_count": 11,
   "metadata": {},
   "outputs": [],
   "source": [
    "# Preprocess all expanded reg sentences\n",
    "regSentsExpand_lemmatized=[my_preprocessor(sent) for sent in regSentsExpand]"
   ]
  },
  {
   "cell_type": "code",
   "execution_count": 15,
   "metadata": {},
   "outputs": [
    {
     "name": "stdout",
     "output_type": "stream",
     "text": [
      "990262 \"You can move in tomorrow and you won't have to do one thing to fix it up.\" \"Deregulation of natural gas will lower your heating bills.\" \"Our latest model will give you 40 miles to the gallon.\" -PRON- can move in tomorrow and -PRON- will not have to do one thing to fix -PRON- up deregulation of natural gas will lower -PRON- heating bill -PRON- late model will give -PRON- 40 mile to the gallon\n"
     ]
    }
   ],
   "source": [
    "print(len(regSentsExpand_lemmatized),regSentsExpand[0], regSentsExpand_lemmatized[0])"
   ]
  },
  {
   "cell_type": "code",
   "execution_count": 24,
   "metadata": {},
   "outputs": [],
   "source": [
    "# Compile a new re pattern with regulatory noun chunks\n",
    "pattern=re.compile(r\"\\b\"+r\"\\b|\\b\".join(map(re.escape, nounchunks))+r\"\\b\",re.IGNORECASE)"
   ]
  },
  {
   "cell_type": "code",
   "execution_count": null,
   "metadata": {},
   "outputs": [],
   "source": [
    "# Match noun chunks in all expanded reg sentences\n",
    "start_time = time.time()\n",
    "\n",
    "nounchunk_match=[]\n",
    "nounchunk_match_words=[]\n",
    "for sent in regSentsExpand_lemmatized:\n",
    "    match_words=[]\n",
    "    match=0\n",
    "    find=pattern.findall(sent)\n",
    "    if len(find)>0:\n",
    "        match_words=find\n",
    "        match=len(find)\n",
    "    nounchunk_match.append(match)\n",
    "    nounchunk_match_words.append(match_words)\n",
    "    \n",
    "print(\"--- %s seconds ---\" % (time.time() - start_time))"
   ]
  },
  {
   "cell_type": "code",
   "execution_count": 20,
   "metadata": {},
   "outputs": [
    {
     "name": "stdout",
     "output_type": "stream",
     "text": [
      "990262 990262\n",
      "['public health'] 1\n"
     ]
    }
   ],
   "source": [
    "print(len(nounchunk_match), len(nounchunk_match_words))\n",
    "print(nounchunk_match_words[-1], nounchunk_match[-1])"
   ]
  },
  {
   "cell_type": "code",
   "execution_count": 21,
   "metadata": {},
   "outputs": [],
   "source": [
    "# Export results: matched noun chunks in expanded reg sentences\n",
    "df_regSentsExpand['NounChunkMatchFiltered']=nounchunk_match\n",
    "df_regSentsExpand['NounChunkMatchWordsFiltered']=nounchunk_match_words"
   ]
  },
  {
   "cell_type": "code",
   "execution_count": 22,
   "metadata": {},
   "outputs": [
    {
     "name": "stdout",
     "output_type": "stream",
     "text": [
      "          ID                                            Title  Type  \\\n",
      "0  294326637             1984: IT WAS THE YEAR OF THE BIG LIE  News   \n",
      "1  294308147  CONTROLS LIFTED ON ABOUT HALF OF US NATURAL GAS  News   \n",
      "2  294323196              COURT UPHOLDS DIABLO CANYON LICENSE  News   \n",
      "3  294311708                      HUNT'S IMMACULATE RECEPTION  News   \n",
      "4  294262284                          LEGISLATIVE REPORT CARD  News   \n",
      "\n",
      "   StartDate     EndDate TextWordCount                          PubTitle  \\\n",
      "0 1985-01-01  1985-01-01           422  Boston Globe (pre-1997 Fulltext)   \n",
      "1 1985-01-01  1985-01-01           751  Boston Globe (pre-1997 Fulltext)   \n",
      "2 1985-01-01  1985-01-01           238  Boston Globe (pre-1997 Fulltext)   \n",
      "3 1985-01-01  1985-01-01          1142  Boston Globe (pre-1997 Fulltext)   \n",
      "4 1985-01-01  1985-01-01          1570  Boston Globe (pre-1997 Fulltext)   \n",
      "\n",
      "   SourceType    Year  Month     Newspaper  \\\n",
      "0  Newspapers  1985.0    1.0  Boston Globe   \n",
      "1  Newspapers  1985.0    1.0  Boston Globe   \n",
      "2  Newspapers  1985.0    1.0  Boston Globe   \n",
      "3  Newspapers  1985.0    1.0  Boston Globe   \n",
      "4  Newspapers  1985.0    1.0  Boston Globe   \n",
      "\n",
      "                                      RegSentsExpand  RegSentExpandLength  \\\n",
      "0  \"You can move in tomorrow and you won't have t...                  193   \n",
      "1  For one thing, federal rules governing the pip...                  596   \n",
      "2  A federal appeals court yesterday upheld the N...                  419   \n",
      "3  The newly slimmed down Hunt, who ran afoul of ...                  577   \n",
      "4  - A modified deregulation of bank credit card ...                 1299   \n",
      "\n",
      "   NounChunkMatchFiltered                        NounChunkMatchWordsFiltered  \n",
      "0                       1                                      [natural gas]  \n",
      "1                       3         [federal rule, price change, price change]  \n",
      "2                       2  [Nuclear Regulatory Commission, nuclear power ...  \n",
      "3                       0                                                 []  \n",
      "4                       4  [credit card, interest rate, unemployment comp...  \n"
     ]
    }
   ],
   "source": [
    "print(df_regSentsExpand.head())"
   ]
  },
  {
   "cell_type": "code",
   "execution_count": 24,
   "metadata": {},
   "outputs": [
    {
     "name": "stdout",
     "output_type": "stream",
     "text": [
      "# of reg relevant artciles: 608172\n"
     ]
    }
   ],
   "source": [
    "print('# of reg relevant artciles:',df_regSentsExpand[df_regSentsExpand['NounChunkMatchFiltered']>0]['ID'].nunique())"
   ]
  },
  {
   "cell_type": "code",
   "execution_count": 27,
   "metadata": {},
   "outputs": [
    {
     "name": "stdout",
     "output_type": "stream",
     "text": [
      "0    46496\n",
      "Name: NounChunkMatchFiltered, dtype: int64\n"
     ]
    }
   ],
   "source": [
    "print(df_regSentsExpand[df_regSentsExpand['RegSentExpandLength']==0]['NounChunkMatchFiltered'].value_counts())"
   ]
  },
  {
   "cell_type": "code",
   "execution_count": 25,
   "metadata": {},
   "outputs": [
    {
     "name": "stdout",
     "output_type": "stream",
     "text": [
      "\"You can move in tomorrow and you won't have to do one thing to fix it up.\" \"Deregulation of natural gas will lower your heating bills.\" \"Our latest model will give you 40 miles to the gallon.\" ['natural gas']\n",
      "For one thing, federal rules governing the pipeline companies that move gas from producer to consumer forbid rate adjustments based on anticipated changes in the price of decontrolled gas. Because rates can be adjusted only after a price change by producers, any increase or decrease will not show up until next spring or summer when the pipelines file their \"purchased gas adjustments\" with the Federal Energy Regulatory Administration. But even then, hardly anyone involved in the $65-billion-a-year industry that provides one-fourth of the nation's energy expects any significant price change. ['federal rule', 'price change', 'price change']\n",
      "A federal appeals court yesterday upheld the Nuclear Regulatory Commission's issuance of an operating license for the Diablo Canyon nuclear power plant in California. In a 2-1 ruling, the court said that except for what it termed \"two minor exceptions,\" it could find nothing illegal in the commission's decision in August to allow the first unit of the problem-plagued twin-reactor plant to begin commercial operation. ['Nuclear Regulatory Commission', 'nuclear power plant']\n",
      "- A modified deregulation of bank credit card interest rates, which would permit banks to charge interest above the currently mandated 18 percent if in any given quarter the rate on 91-day Treasury notes exceeds 18 percent when it is multiplied by two. Legislation which would reduce employers' unemployment compensation tax liability by as much as $90 million is expected to be passed early in the 1985-86 session. Although nine bills were introduced in the Legislature last year, none was acted upon. - Regulation of corporate use of video-display terminals in business. But the defeat sets the stage for an absolute must for the employer community in the Legislature as early as possible in 1985.\" Vigorously supported by groups such as \"9-to-5,\" an organization of clerical workers, nine bills were filed for the session. Thus, if in a given quarter the 91-day bill rate was 9.2 percent, banks could charge 18.4 percent for that quarter. Another area where lack of legislative action favored business, in AIM's view, was the failure of the Legislature to take up measures setting up regulations on the occupational use of video- display terminals. - Creation of a state building code commission to provide uniformity in the administration and enforcement of the building code at the local level. ['credit card', 'interest rate', 'unemployment compensation', 'tax liability']\n",
      "US/WORLD NEWS BRIEFS     The Nuclear Regulatory Commission yesterday issued a fuel loading and low-power operating license for the first reactor of what will be the largest US atomic power plant. The commission's Office of Nuclear Reactor Regulation approved the restricted license for Unit 1 of the three- reactor Palo Verde plant about 50 miles west of Phoenix, making it the nation's 90th atomic power station. ['Nuclear Regulatory Commission']\n",
      "The action followed radiation exposure to two construction workers in separate incidents in January and August of 1983. The Nuclear Regulatory Commission also ordered Boston Edison to hire consultants to evaluate the plant and devise a new radiation protection program. The plant closed Dec. 10, 1983 for its regularly scheduled refueling. The consultant firm's report is due soon, Monahan said. While it was off, the Nuclear Regulatory Commission ordered Pilgrim to check for cracks in the stainless steel pipes in the boiling water reactors. Neither worker suffered injuries, Boston Edison reported. ['radiation exposure', 'construction worker', 'Nuclear Regulatory Commission', 'radiation protection', 'Nuclear Regulatory Commission']\n",
      "He said prisoners on flights are not shackled: \"We don't handcuff prisoners in flight because of safety considerations.\" Federal agents are investigating how a convicted mass murderer, en route from the Virgin Islands to a US prison, got the gun he used to hijack a DC10 jetliner to Cuba, the FBI said yesterday. But Dennis Feldman, an FAA spokesman in Washington, said that agency was investigating whether LaBeet was being transported \"in accordance with FAA safety regulations and whether the incident indicates a need for additional procedures to assure the safety of passengers and crew.\" Meanwhile, the Federal Aviation Administration was studying whether the hijacker, identified by the FBI as Ishmael Ali LaBeet, was transported according to regulations and whether inflight prisoner rules should be revised. Passengers said LaBeet, who was not handcuffed because of air safety rules, emerged from a lavatory holding a gun on New Year's Eve and disarmed his three guards. ['safety regulation']\n",
      "William R. Keating (D-Sharon), Public Safety; Paul J. Sheehy (D-Lowell), State Administration; John P. Houston (D- Worcester), Local Affairs; Thomas C. Norton (D-Fall River), Government Regulations; and William B. Golden (D-Weymouth), Committee on Counties. They are Sens. ['Public Safety', 'State Administration']\n",
      "Passage of a federal highway bill, stymied for two years by squabbling over special interest projects like the construction of a third tunnel under Boston Harbor and lowering of the Central Artery, is especially pressing because 40 states have depleted their federal allocations for interstate highway construction. Many of the issues to be tackled by this Congress - banking deregulation, environmental cleanup, immigration reform, highway construction, confirmation of presidential counselor Edwin Meese 3d as Attorney General - are holdoversfrom the 98th session. While leaders of both parties acknowledge the pressure building to overhaul the federal tax code, both Dole and Rep. Daniel Rostenkowski (D- Ill.), chairman of the tax-writing Ways and Means Committee in the House, have described the pending proposals as of secondary importance to reducing the deficit. ['Attorney General']\n",
      "Wellington F. Osterloh, director of public relations for Coastal, said the company had no comment about the proposal. The proposed rules would seem to permit most of those companies to remain on the exchange. But Coastal, which issued stock last July with the voting power of 100 shares of ordinary common stock, appeared to be in violation of the recommended regulations. ['propose rule']\n",
      "Textron said the California insurance commissioner and the Comptroller of the Currency have not yet approved the takeover. IN BRIEF     Textron Inc. said it is extending for one week its cash tender offer for all outstanding shares of Avco Corp. common stock. The offer, which was scheduled to expire Jan. 2 at midnight EST, was extended until Jan. 9 at 5 p.m. because some necessary regulatory approvals have not yet been received, Textron said in a statement. ['tender offer']\n",
      "The councilors also charged the department is unresponsive to the public and is run without proper supervision, with no clear lines of authority to establish who is in charge. Kelly, however, said he did not share Tierney's sentiments concerning Rogers. McLaughlin, chairman of the council's Committee on Government Regulations, has held five neighborhood hearings concerning the Inspectional Services Department and has put together a draft report recommending a new organizational structure. ['organizational structure']\n",
      "The first few years were characterized by a multiplicity of competing routes and fares and an enormous but often chaotic expansion of the airline industry: Since deregulation, 240 new airlines have been started - and 35 carriers have gone bankrupt. \"The idea of getting government off our back is a myth; you can't live without regulation, and air travel is such an important part of national existence that it can't be left totally in the marketplace,\" said Bernard Garber, president of Garber Travel. \" Many in the travel industry question whether abolition of the CAB will have any effect on the way US airlines operate. At the conclusion of the CAB's 10-minute final meeting last Monday, a Marine bugler sounded \"evening colors,\" the call traditionally played at sunset on military installations. Much of what the CAB was doing didn't need to be done, but it took years to structure a workable system, and you don't prune a forest by cutting down all the trees. The board's demise formally concludes the process of civil aviation deregulation that began in 1978. \"There was a lot of confusion when fares were deregulated, and it was difficult for both travel agents and the public,\" said a spokesperson for the American Society of Travel Agents, \"but agents have learned how to cope, and because it is still confusing, the public knows it needs to go to an expert to get help to find out what fares and services are being offered; so, it has really been good for travel agents.\" The sun also rises, in other words. The air travelers rights that DOT now must uphold include:     - BUMPING - Airline's may overbook but must arrange alternative travel for bumped passengers so that they arrive at their destinations within an hour of the original arrival time. But, many of the board's functions, including enforcement of consumer protection regulation, approval of rates and routing of international carriers, have been transferred to the Department of Transportation, making that agency, in a sense, \"the new CAB.\" On paper, deregulation is completed, but one final phase has not been fully implemented. The board's sun has indeed irrevocably set, and when it went down, history was made: The CAB becomes the first major federal regulatory agency ever to be completely abolished. Deregulation removed the antitrust immunity enjoyed by the Air Traffic Conference (ATC), the airline industry- sponsored body which controlled ticket stock and administered ticketing procedures, allowing only airline offices and approved travel agents to issue tickets. Initially, the CAB's consumer-related responsibilities were to be distributed to various government agencies, including the Federal TradeCommission and the departments of Justice and Commerce. The ending of travel agent ticketing exclusivity is expected to eventually result in supermarkets, department stores and corporate travel departments issuing airline tickets, along with travel agencies. The ATC has been replaced by the Airlines Reporting Corporation (ARC), which recognizes both travel agents and \"other persons\" as ticket sellers - but has yet to accredit any of the latter. The jury is still out but we could just be changing one set of initials for another set,\" Garber said. For travelers, one of the CAB's most important functions and in its final years perhaps the most important function, was administering a large body of consumer-oriented regulations governing everything from how long a charter flight can be delayed before passengers get their money back to smoking restrictions on aircraft. The fact that consumer regulations were transferred intact and in a body to DOT, which is now solely responsible for enforcing them, is considered a victory for consumer groups. ['air travel', 'military installation', 'travel agent', 'travel agent', 'air traveler', 'consumer protection', 'international carrier', 'Air Traffic', 'travel agent', 'government agency', 'travel agent', 'travel agency', 'travel agent', 'smoking restriction']\n",
      "In the student loan case, three Boston University theology students and the US Department of Education have filed cross appeals from a lower court injunction. The lower court enjoined a federal regulation which required draft exempt students to obtain a notice from the Selective Service that they were exempt. The students, two of them women, claim the regulation violates their rights to religious freedom. ['student loan', 'cross appeal', 'federal regulation']\n",
      "Most blame the force of habit. Others blame government regulation, of all things. Some have blamed the typewriter oligopoly, operating out of fear that if typists type faster, fewer machines will be sold. ['government regulation']\n",
      "The Department of Environmental Quality Engineering appears committed to this course despite an admission from Rod Gaskell, director of DEQE's wetlands division, that the mall project \"would never pass the new standards.\" The state's inclination to approve the project reopens concern about the environmental policies of Governor Dukakis. The state's rationale for allowing Pyramid to play by the old rules is based on a situation in which an Ohio company applied for - and was denied - a wetlands permit for Sweedens Swamp under the old regulations. Enviromental Affairs Secretary James Hoyte has justified this stance by noting that agency regulations give the state leeway to permit development in disputed areas, while subjecting such projects to state review to \"maximize the opportunity for environmental protection.\" A New York company's proposal to build a 100-store shopping mall in an Attleboro swamp calls for filling 25 acres of wetlands, five times the limit allowed under 1983 regulations. When Pyramid stepped in with plans to fill 25 acres, the state decided against requiring the proposal to meet the newest standards. Before it bowed out, the company was told its project might pass if plans were scaled down to meet then-operational environmental standards. DEQE must still decide whether it will uphold the previous denial of the wetlands permit or allow the mall to be built. A year ago, state environmental officials informed the Pyramid Companies that it could proceed under less restrictive wetlands regulations than the five-acre fill limit. ['Environmental Quality', 'new standard', 'environmental policy', 'agency regulation', 'new standard', 'wetland regulation']\n",
      "Now, as Baldessarini notes, downregulation may simply be one of nature's homeostatic - or steady state regulating - systems; it may be the increased activity of the receptors that don't shut down that is involved in the efficacy of antidepressant drugs, he reasons. Though the correlation of severe depression and insufficiencies of norepinephrine and serotonin is strong, no one has proved beyond a doubt that the chemical deficit causes depression, nor for that matter, that depression causes the chemical deficit. And, studies show, it may or may not cause downregulation of the receptors on the far side of the synapse. There is an interest in such new drugs as Bupropion, and before it in other so-called atypical drugs that have at least some antidepressant effects (trazadone and alprazolam, for instance) because these chemicals don't fit even the recently expanded depression theory. Other norepinephrine receptors on the receiving cell continue to do their job, however, possibly even more effectively. \"This means,\" muses Stern of Burroughs Wellcome, \"that either our theories of depression are incomplete, or at worst, totally wrong.\" To account for the fact that most antidepressants seemed to cause downregulation, yet the opposite would seem necessary to combat depression, scientists in the last several years have had to expand the original theory. This timing coincides remarkably with another piece of the puzzle, the process by which one type of receptor on the far side of the synapse gradually begins to \"turn a deaf ear,\" as Baldessarini puts it, to the increased norepinephrine in the synapse. Some of the neurotransmitter also \"kisses\" similar receptor sites on the sending cell, providing a feedloop that regulates how fast the cell produces more neurotransmitters. There in the synapse, the transmitters do their work, floating quickly to the receiving cell to land - or briefly \"kiss,\" as some scientists say - the awaiting receptor site. This process is called \"downregulation,\" or desensitization. Shortly after the first cell squirts out its transmitter, \"transport sites\" or channels in its membrane pull back in much of the neurotransmitterfrom the synapse, through a process called \"uptake.\" In effect, it partially shuts down the receiving cell's response. A key part of this feedback system consists of specific receptor sites - many of them named and \"mapped\" by neuroscientists only in the last several years - on the membranes of both the sending and receiving cells. Until recently, all known antidepressants appeared to cause downregulation, prompting some scientists to believe that downregulation must be the way the drugs worked. In a normal person, brain cells secrete the right amounts of these neurotransmitters, amounts delicately regulated through feedback loops between nerve cells. Yet this was paradoxical, since this shutting down process would mean that fewer norepinephrine-stimulated messages would be transmitted, not more. Bupropion, for instance, doesn't work by stopping the metabolic breakdown of norepinephrine, nor does it block the uptake from the synapse. ['new drug']\n",
      "Not only do medical costs continue to skyrocket, but a number of federal and state regulations (such as Chapter 372 of the Massachusetts General Laws, a 1983 measure that pressures hospitals to discharge patients earlier to reduce the government health tab) have helped make sure that sicker patients find themselves at least completing their recovery at home. Even more crucially, the demand for health care of all kinds promises to skyrocket in the next 50 years, with the present number of Americans 65 or older - 27 million - projected to double by the year 2030. And now, strangely enough, a number of trends are making home nursing a service whose time has come once again. ['state regulation', 'health care']\n",
      "The Supreme Court is not expected to hear oral arguments before the spring or to come to a decision before the summer. There's a difference between interpretation of regulations and a basic constitutional issue,\" he said. Clarke Coggeshall, vice president and area manager of Citicorp (USA) Inc. in Boston, said he saw no irony in his bank's position. \" ['oral argument']\n",
      "\"That's two to three years of unneeded exposure that could be prevented,\" Carlson said in an interview. A Massachusetts regulatory panel yesterday took steps to limit use of the herbicide Amitrole, which is used to control roadside weeds and poison ivy. A report presented yesterday by Public Health Department toxicologists Joel Swartz and Elizabeth A. Bourque suggested that in animal tests, this risk under worst circumstances may be 1 in 50 and perhaps as great as 1 in 3. The Pesticide Subcommittee, composed of representatives of state health, environmental and agricultural agencies, acted after being told that prolonged exposure to Amitrole presents a severe risk of cancer to persons who work with the chemical. State pesticide regulators can act to control Amitrole almost immediately, according to Jeffrey Carlson, director of the state Pesticide Bureau, while the EPA, because of its tighter legal constraints, may need three years to act. ['poison ivy', 'Public Health']\n",
      "There has been speculation in the banking industry for more than a year that Conover wanted to leave the government post. He also is one of the three members of the board of the Federal Deposit Insurance Corporation (FDIC), which insures individual deposits up to $100,000 in federally chartered banks. As comptroller, he supervises the country's 4700 federally chartered commercial banks, including giants such as Citibank and others that are at the forefront of pushing bank deregulation. ['Federal Deposit', 'commercial bank']\n",
      "Regan has been a skilled consensus builder among a vast array of diverse and usually vocal groups - including many different business interests, taxpayers, consumers and small nations with unmanageable foreign debts. Regan, 66, would become the nation's 66th Treasury secretary after 10 years as chairman and chief executive officer of the Wall Street securities firm, Merrill Lynch &amp; Co.     Regan was born Dec. 21, 1918, in Cambridge, Mass., the son of a railroad man. He has spent much of his reign presiding over the congressionally mandated deregulation of bank rates but has been continually frustrated by Congress and the Federal Reserve as he tried to further sweeping proposals to add insurance and securities sales to the permissible powers of banks. ['executive officer', 'security firm', 'Federal Reserve']\n",
      "The decision by the Maine PUC in December placed a major obstacle in the path of completion. Vermont and Connecticut regulators have endorsed completion; Massachusetts and New Hampshire have yet to make a final decision. It was not clear yesterday what effect the appeal would have on the fate of the project, which is now 80 percent complete. The December decision by the Maine Public Utilities Commission gave the company until tomorrow to find a buyer for its 6 percent share of the project. Central Maine Power Co. yesterday said it would appeal a decision by its regulators that ordered the company to find a buyer for its share of the Seabrook nuclear power plant. Seabrook's 16 owners are asking for regulatory approval to borrow an additional $1 billion to finish Seabrook 1. ['nuclear power plant']\n",
      "In an amended suspension issued Oct. 30, the state cited the woman for a variety of violations of day-care regulations, including caring for more children than the five permitted by her license and filing false information about the mental health of her assistant and of the young relative. The suspension followed reports that two girls, ages 5 and 6, had been sexually abused while enrolled at the home. According to state documents, the Office for Children first learned last April that a child in the woman's care had been \"the object of inappropriate sexual behavior (by the youth) on at least two occasions.\" State officials have declined to identify the name of the owner of the home in order to protect the privacy of her teenage male relative. Gloria J. Clark, director of the Office for Children, which is responsible for regulating day care facilities in the state, issued the decision on the Acton home following a recommendation last month from a state administrative magistrate that the license be revoked. On Dec. 31, the Fells Acres Day School in Malden became the first day care center in the state to lose its license because of allegations of sexual abuse. ['false information', 'mental health', 'state official', 'sexual abuse']\n",
      "She said the major cause of food poisoning is improper storage temperature, not contamination. STATE HOUSE ROUNDUP     Weymouth's health director said yesterday he wanted the public's fingers out of the lettuce and other food items to prevent health hazards in increasingly popular self-service salad bars in supermarkets. He called for a ban on this and other self-service food displays. Self- service food displays such as salad bars and bulk foods are governed only by guidelines issued by the department, which Ridley said are less enforceable than regulations. The proposed regulations would govern restaurants, caterers and food stores, Ridley said. Weymouth Health Director Richard Marino testified at the state Department of Public Health hearing on proposed regulations for self- service food in supermarkets that he feared people may contaminate food at supermarket salad bars by touching the food or putting it back in the containers after handling it. ['propose regulation', 'state Department', 'Public Health', 'propose regulation']\n",
      "But the exchange has denied claims for damages lodged by customers of twoclosed offices of the Hong Kong-based company, although customers have won default judgments against the company in courts in King County, Wash., and Vancouver, B.C.     Exchange regulations provide that members' assets can be used to repay their public customers in some cases. Exchange officials said the fine against Peter Yip of Hong Kong was one of the largest it had ever levied. No criminal charges have been filed in the case involving the defunct offices of King Lung Commodities Ltd.     Sgt. ['deny claim']\n",
      "Splitting the agency into the Department of Energy and the independent Nuclear Regulatory Commission has not been a perfect solution, but it has improved the prospects of rigorous regulations on safety. Congress must write into law the greatest possible security, both for the natural assets of the country's interior and for a realistic national energy policy. In other areas of energy management, the trend has run counter to the one proposed in the merger. The old Atomic Energy Commission, for example, was charged with the competing tasks of encouraging the development of nuclear power and regulating its safety - both proper roles for government but inappropriate for a single agency. ['Nuclear Regulatory Commission', 'energy policy', 'energy management']\n",
      "IN BRIEF     Marvin Josephson, chairman and chief executive officer of Josephson International Inc. of New York, is working on a proposal to form a privately owned company with Boston Ventures Management Inc. to buy Josephson International Inc. for $10 a share cash. Boston Ventures is a private investment firm headed by former Bank of Boston executive vice president William F. Thompson. Josephson International said that such a proposal, if made, would be subject to preparation and execution of definitive agreements, completion of financing arrangements, regulatory approvals and other conditions. ['executive officer']\n",
      "In 1973-74, the oil sheiks put the squeeze on and the public clamored for small fuel-stingy cars. The US Government, asserting the intention to make America energy-independent, came up with a slew of regulations and programs designed to effect that end. JOHN R. WHITE     When market demands and government regulations point in the same direction, business decisions come easy. Corporate Average Fleet Economy (CAFE) was conceived, a federal directive that required a manufacturer's yearly output of autos to achieve levels of average fuel economy that would grow progressively more stringent until by 1985 the average would be 27.5 miles per gallon. ( ['government regulation', 'fuel economy']\n",
      "Dr. Groden was born in Cambridge and was graduated from Cambridge High and Latin School, from Boston College in 1935, and later from Tufts University Medical School. Affiliated with Norwood Hospital and several Greater Boston-area hospitals during his 40 years of practice, he received recognition in 1967 for his book, \"Secure Rhythm,\" documenting his years of research on ovulation regulation. Dr. Harold M. Groden, 69, Walpole, obstetrician, gynecologist and Norfolk County Medical Examiner for the past several years, died yesterday in Norwood Hospital after a long illness. ['Medical Examiner']\n",
      "The study, contained in a 12-page report from the Executive Office of Consumer Affairs and Business Regulation, is a follow-up to a study the office conducted last July comparing mainland and island prices. STATE HOUSE ROUNDUP     A state study has found that overall prices for consumer goods on Martha's Vineyard and Nantucket were as high in December as they had been last July. Paula W. Gold, secretary of consumer affairs and business regulation, said the study \"casts doubt on the theory mentioned by some that island prices were jacked up in the summer to take advantage of seasonal markets.\" These prices were compared with those at stores in three mainland communities: Falmouth, Hyannis and Brockton. The initial study was prompted by island residents' complaints that prices for consumer goods were unusually high there. ['Executive Office']\n",
      "With Parliament returning this week, there will be a renewed focus on unemployment, the major blot on the Thatcher escutcheon. But a key to the prevailing mood could be discerned from the reaction to the last set of data, for December. The redoubtable prime minister insists new public spending to create jobs would only be a temporary and inflationary ruse, and is instead pushing deregulation and a tax cut in her next budget. ['tax cut']\n",
      "Plain)     John F. Cusack, Arlington     INSURANCE     Francis H. Woodward, Walpole     Theodore Aleixo Jr., Taunton     TRANSPORTATION     Stephen J. Karol, Attleboro     Emanuel Gus Serra, E. Boston     NATURAL RESOURCES AND AGRICULTURE     Steven Angelo, Saugus     William P. Nagle Jr., Northampton     PUBLIC SAFETY     Thomas P. White, Worcester     Retains the chairmanship     HEALTH CARE     John C. McNeil, Malden     Richard A. Voke, Chelsea     BANKS AND BANKING     Thomas M. Finneran, Boston (Dorchester)     Former Rep. Andrew J. Rogers, Framingham     ETHICS     Roger L. Tougas, Dartmouth     Robert A. Cerasoli, Quincy     BILLS IN THIRD READING     David B. Cohen, Newton     Alfred A. Saggese Jr., Winthrop     COUNTIES     Michael W. Morrissey, Quincy     Raymond A. Jordan Jr., Springfield     ELECTION LAWS     John A. Businger, Brookline     William J. Flynn Jr., Hanover     ENERGY     Lawrence R. Alexander, Marblehead     Thomas C. Norton, Fall River     FEDERAL FINANCIALASSISTANCE     Saundra M. Graham, Cambridge     Former Rep. Doris Bunte, Boston (Dorchester)     LOCAL AFFAIRS     Henry R. Grenier, Spencer     Robert A. Vigneau, Burlington     PUBLIC SERVICE     Kevin P. Blanchette, Lawrence     Nicholas J. Buglione, Methuen     STATE ADMINISTRATION     Joseph N. Hermann, North Andover     Joan M. Menard, Somerset     STEERING AND POLICY COMMITTEE     Theodore C. Speliotis, Danvers     A new committee     PERSONNEL AND ADMINISTRATION     Michael J. Rea, Billerica     A new committee The names of the McGee lieutenants being replaced appear in italic type under the name of the Keverian appointee. HOUSE SPEAKER: $65,000     George Keverian, Everett     Replaces Thomas W. McGee, Lynn     MAJORITY LEADER: $52,500     Charles F. Flaherty, Cambridge     W. Paul White, Boston (Dorchester)     WHIP: $45,000     Robert Correia, Fall River     Joan M. Menard, Somerset     ASSISTANT WHIP: $45,000     Mary Jane Gibson, Belmont     Angelo Marotta, Medford     CHAIRMAN, HOUSE WAYS AND MEANS: $55,000     Richard A. Voke, Chelsea     Michael C. Creedon, Brockton     VICE CHAIRMAN, WAYS AND MEANS: $45,000     Richard D. Mullins, Ludlow     Robert B. Ambler, Weymouth     ASSISTANT VICE CHAIRMAN, WAYS AND MEANS: $37,500     Angelo M. Scaccia, Boston (Hyde Park)     Joseph M. Manning, Milton     CHAIRMAN, TAXATION: $45,000     John H. Flood, Canton     Richard T. Moore, Uxbridge     CHAIRMAN, POST AUDIT AND OVERSIGHT: $45,000     Robert A. Cerasoli, Quincy     Kevin W. Fitzgerald, Boston (Jamaica Plain)     THE CHAIRMEN OF ALL OTHER COMMITTEES ARE PAID $37,500.GOVERNMENT REGULATIONS     William F. Galvin, Boston (Brighton)     Regains post he resigned under former Speaker McGee     EDUCATION     Nicholas Paleologos, Woburn     James G. Collins, Amherst     JUDICIARY     Thomas F. Brownell, Quincy     Michael Flaherty, S. Boston     CRIMINAL JUSTICE     Salvatore DiMasi, Boston (North End)     W. Paul White, Boston (Dorchester)     COMMERCE AND LABOR     Kenneth M. Lemanski, Chicopee     Timothy Bassett, Lynn     HUMAN SERVICES AND ELDERLY AFFAIRS     A. Joseph DeNucci, West Newton     Retains the chairmanship     HOUSING AND URBAN DEVELOPMENT     Kevin W. Fitzgerald, Boston (Jam. ['PUBLIC SAFETY', 'HEALTH CARE', 'STATE ADMINISTRATION', 'government regulation', 'CRIMINAL JUSTICE', 'HUMAN service', 'URBAN DEVELOPMENT']\n",
      "But the governor's careful efforts to avoid mistakes and even controversy, some say, seem to have dulled the cutting edge of leadership and led to a number of legislative failures. The bottom line, according to a wide range of political observers, is that Dukakis has overcome his distaste of the political process and has chalked up a number of successes, including welfare and aid-to-the homeless programs, state aid to cities and towns and measures to hold down medical costs, protect plant workers and regulate condominium conversion. But the new Dukakis, some say, has abandoned some of the boldness and even some of the idealism that marked his first term. ['homeless program']\n",
      "The rules resulted in a 50 percent reduction in the number of patients receiving ECT and an increase in the average age of those receiving it. In 1967, Utah became the first of many states to respond by passing a statute controlling use of ECT. Crowe and Greenblatt helped revive the debate last year in journal articles that contended ECT is safe and more rapidly effective than drugs in many serious depression cases and has been needlessly overregulated. In 1975, to avoid legislative mandates, the Massachusetts Department of Mental Health became the first to issue its own regulations on ECT, requiring hospitals to report the number of ECT applications monthly, to strictly follow consent procedures, and to limit the number of treatments a patient received each year to 35 or less. As concern heightens about how best to deal ECT, a review of clinical and basic research issues begins this Thursday in New York City, co-sponsored by the prestigious New York Academy of Sciences and the National Institute of Mental Health. But proponents, such as Iowa's Crowe, now argue that while the abuses have been curtailed, if not eliminated, they continue to obscure the benefits being seen in a significant number of patients. Dr. Milton Greenblatt, psychiatry professor at the University of California and commissioner of mental health in Massachusetts at the time regulations were introduced, recalled last week that the rules followed the plea of child psychiatrists, whom he said \"were having confused and disoriented youngsters dumped on them following multiple shocks.\" By 1983, 26 states had passed statutes and regulations were established in at least six others. ['Mental Health', 'basic research', 'Mental Health', 'mental health']\n",
      "He said one possible approach would be to repeal the law completely and rely on the various securities exchanges to set their own requirements. Federal regulators who could be included in the oversight role would be the Securities and Exchange Commission, the Commodity Futures TradingCommission and the Federal Reserve, Volcker said. He said, however, that it might be preferable to pass a law establishing certain guidelines that the exchanges would be required to use and perhaps provide authority for federal regulators to oversee the whole process. The board reviewed the question of margins - how much in funds an investor must put up when buying stock and other securities. A 50-year-old federal law regulating the purchase of stocks without paying the full price contains requirements that are no longer needed to protect investors or the financial system, the Federal Reserve Board concluded in a study released yesterday. ['Federal Reserve', 'other security', 'federal law', 'Federal Reserve']\n",
      "\"It's basically a sound strategy, since K mart's traditional business in discount retail stores is pretty mature, and they need new areas of growth,\" said Monroe Greenstein, retail industry analyst for the securities firm Bear, Sterns &amp; Co.     As a US retailer, K mart is second in size only to Sears Roebuck &amp; Co. Inc.     The acquisition of Pay Less Drug Stores Northwest, which operates 164 drug stores in Oregon, Washington, California, Idaho and Nevada, fulfills a long- held plan by K mart to gain a foothold in the retail pharmaceutical market, according to Fauber. Pay Less will continue with its present management after the merger, which must be approved by Pay Less stockholders and regulatory authorities, Fauber said. Pay Less also will retain its name. ['retail store', 'security firm']\n",
      "Frank Cirone, the Boston general manager for three months, and the fourth general manager in the two years since Cablevision has been operating in Boston, also said the company is committed to staying in Boston and to continuing its funding of public access and local programing. The general manager of Cablevision of Boston acknowledged yesterday that the company has made mistakes over the past year but pledged to strive for better communication with subscribers and city officials who regulate the cable franchise. ['public access']\n",
      "The worst cases led to major market panics such as the famous plunge in October 1929. Since then, the rate has been adjusted a number of times, ranging between a low of 40 percent and, during World War II, a ban on the use of credit at all. Federal regulation began early in Roosevelt's New Deal when the Federal Reserve was charged with setting margin rates. The Reagan Administration and the Federal Reserve system want to shift supervision of credit rules on stock market transactions to the exchanges where such trading takes place. While such a move is consistent with the general dismantling of regulatory bodies, protection of the public interest should remain paramount in the transfer of responsibility for such rules to the marketplace. Congressshould make sure the exchange community has full appreciation of this before permitting the shift. ['federal regulation', 'Federal Reserve', 'Federal Reserve', 'regulatory body']\n",
      "It is expected that some Bay State plants will have to shut down when their licenses come up for renewal this year under stricter federal and state regulations. The Clean Harbors proposal is the fifth effort to build hazardous- waste treatment facilities in Massachusetts under a siting program enacted in 1980. A half-dozen small solvent recovery plants now operate in Massachusetts, but the bulk of such wastes now generated in the state are shipped elsewhere for treatment or disposal. ['state regulation']\n",
      "The proposed transaction is subject to approval by shareholders and by federal and state regulatory authorities. Each Middleborough stockholder will receive four holding company shares, or debentures, or $180 for each Middleborough common share. Spence said he expected the deal to close by mid-summer. ['propose transaction', 'hold company']\n",
      "An FAA spokesman said the fine stems from the nation's 21st largest carrier last year violating regulations that require pilots and other crew members to undergro certain ground training. They include training in handling emergencies and hazardous materials. The fine, one of the largest civil penalties ever sought by the agency, can be appealed and a lesser amount negotiated. ['hazardous material', 'civil penalty']\n",
      "New government regulations require hospitals to justify the cost. Gordon said that Analogic is shipping more of the lower cost equipment and that Japanese manufacturers also are competing in that price range. The shift in emphasis comes as a result of a cutback at hospitals in purchasing expensive equipment. ['government regulation']\n",
      "Schweiker's proposal for labeling flunked the test. \"Procedurally, that was the best decision I ever made,\" James J. Tozzi, the OMB official who decided the labeling was unwarranted, recalled yesterday. In mid-1982, after the government began a public-education program about the danger, Heckler's predecessor, Richard Schweiker, agreed with the FDA that warning labels on aspirin products should be required. According to Globe interviews with medical and government officials involved in the controversy, the industry has used its access in the deregulation-minded political corridors of the Reagan Administration to help block mandated labeling of its product; threatened or used lawsuits to force the government, the broadcast media and a major physicians' group to tone down, delay or withdraw warnings about the link; and even produced its own ads suggesting that no such link exists. Tozzi, who has now represents companies seeking regulatory relief, acknowledged that he met with White and other industry officials and considered their objections to the labeling and the four studies. He denied charges by Wolfe and others that he relied on the industry's opinion while ignoring the consensus among government health officials that aspirin was linked to Reye's. During the same period, the aspirin industry has repeatedly frustrated attempts by health officials to warn the public of the danger, insisting - with some support in the medical community - that the studies were flawed and urging pediatricians to continue prescribing aspirin for children with flu and chicken pox. But Reagan, who had formed a \"Task Force on Regulatory Relief\" when he took office, issued an executive order requiring that all new regulations undergo a cost-benefit analysis by the Office of Management and Budget. \"The industry, with the complicity of the Reagan Administration, has taken actions that have resulted in deaths and injuries to hundreds of children in the face of strong scientific evidence linking aspirin to Reye's syndrome,\" Dr. Sidney M. Wolfe, the director of Public Citizens Health Research Group, a consumer group founded by Ralph Nader, charged in an interview yesterday. ['education program', 'regulatory relief', 'Task Force', 'Regulatory Relief', 'executive order', 'new regulation', \"Reye 's syndrome\"]\n",
      "Or for that matter between 3.987 and 2.4, which in a 12-ounce serving would amount to .1896 ounce. And in two states, Illinois and Kentucky, it is left to local option. In effect, one man's malt liquor is another man's beer. To further confuse matters, none of this is regulated by the federal government but is left up to the individual states, which have varying rules. The 3.2 beer, of course, contains 3.2 percent alcohol by weight, so the difference is more in the minds of the drinker and the regulatory agency. One more confusion: In Germany, where the consumers are more technically minded about their beers, the original gravity is often stated on the label in large figures. Note that Pabst Extra Light is actually less potent than 3.2. Some German brews sold here as beer a few years ago are now labeled malt liquor because of state regulations. While this list only includes two of the beers that Esecson asked about, it does make a point: The variations are minimal. ['federal government', 'individual state', 'state regulation']\n",
      "Not a hint is offered about what secular humanism means. The department, trying to implement a section of the 1984 Education for Economic Security Act, has proposed a regulation that would deny funds for programs that local officials define as the teaching of secular humanism. Failing to figure out what \"secular humanism\" is, the US Education Department has dumped the problem into the laps of local school boards. ['school board']\n",
      "FinCom Executive Director Jeffrey Conley described the contract as \"unique,\" saying: \"It is funded under the CDBG program, by the (Neighborhood Development and Employment Agency), through the Fair HousingCommission to the Massachusetts Tenants Resource Center for organizational and education assistance to tenants groups. Although the contract has not been approved by the FinCom, Diane Gordon, tenants organization staff director, who also works part time for the Resource Center, said she was told by Grogan's staff that, as of Jan. 2, the group could submit vouchers to the city to bill against the CDBG grant. Wednesday's vote was taken after the FinCom reviewed the use of CDBG money for the purpose described in the award letter:     To provide a \"Tenant Education Assistance Program\" that will \"assist tenant groups in forming associations with elected officers; conduct workshops to familiarize tenants with federal, state and local housing regulations and policies; and conduct workshops to familiarize tenants with their housing rights, particularly with regard to discrimination, code compliance, evictions and rent increases,\" the letter said. ['Executive Director', 'CDBG program', 'part time', 'Assistance Program']\n",
      "But Barry Rose, Centrust's general counsel, said the Federal Trade Commission had raised no barriers when his bank applied to acquire up to 25 percent of the investment trust. The MassMutual suit charges Centrust and Paul with attempting to take over the trust through an unlawful tender offer. \"We have made the necessary regulatory filings,\" said Rose, adding that Centrust wouldn't necessarily buy 25 percent. ['general counsel', 'tender offer']\n",
      "The move was designed to attract greater private capital investments from abroad to help Mexico overcome a severe two-year- old recession. The government commission regulating foreign investment is made up of the Cabinet departments of the interior, foreign relations, treasury, energy and mines, commerce, labor and budget. Its telex said direct foreign investment authorized during 1984 was about $1.6 billion, up 128 percent from the previous year. ['foreign investment', 'foreign investment']\n",
      "All drivers are required to stop at red lights, obey speed limits and comply with motor vehicle laws and regulations. As Paula Andrews' testimony demonstrates, the lifesaving value of seat belts is overwhelming. To some, mandatory seat belt laws represent government intrusion, but a man's car is not his castle. ['speed limit', 'motor vehicle', 'seat belt', 'seat belt']\n",
      "Kramer said BMW is seeking legislation to force the gray marketeers to meet the same kind of regulations manufacturers must meet and face the same penalties for evasion. What was designed as an avenue for the serviceman or diplomat to bring home a car bought in Europe has become a mass sales movement that \"puts at risk customer satisfaction and the dealer network,\" Kramer said. The gray marketeer need only slap on a catalytic converter to gain emissions certification, which might not stand up for as much as a week. ['customer satisfaction']\n",
      "Murphy's ambitious program for long-range economic state development is well under way, and the governor can lay claim to much of the credit for the state'e low unemployment rate. New regulations that protect consumers have been promulgated by Gold. The accomplishments of Consumer Affairs Secretary Paula Gold and Secretary of Economic Affairs Evelyn Murphy require no enumeration here. ['new regulation']\n",
      "Cabinet appointment: Gov. Edward J. DiPrete made history by naming Clifton Moore of East Providence director of the state Department of Business Regulation. Moore, 58, a former Internal Revenue Service official, is the first black ever named to a gubernatorial cabinet job in Rhode Island. ['state Department', 'Internal Revenue Service']\n",
      "A critique prepared for Alleghany by Merrill Lynch Capital Markets says it is difficult to predict market conditions six months to two years from now, the market is less receptive to public offerings than it was in 1983, and \"research analysts on Wall Street are no longer strongly recommending thepurchase of railroad stocks.\" It was an idea that the Department of Transportation, which favors a one-on-one sale, had considered and abandoned. The Department of Transportation views a sale to a single entity with proper restrictions as the safer alternative. Today, slimmed down and speeded up by its foxy old chairman, L. Stanley Crane, and boosted by deregulation, $7 billion in federal funds and wage sacrifices by labor, it is a money-making company that is beginning to look interesting to some investors. Conrail is expected to report nearly $500 million in earnings for 1984, upfrom $313 million in 1983 and a $244 million loss as recently as 1980. But Conrail has lived to confound its critics. Like Norfolk Southern and the Marriott group, Alleghany has offered about $1.2 billion for the railroad. The nightmare in an Administration committed to deregulation and privatization is that Conrail might fail in the private sector and revert to government ownership. Alleghany also refers to the \"slowing market,\" the threat of railroad reregulation and an unsettled labor situation as a result of the expiration of the industry's labor contracts last June. ['public offering', 'federal fund']\n",
      "The crackdown on booze and butts is simply the nose of a public health dromedary whose totalitarian impulses are only too manifest. Sterilization of the predictably criminal, the unfit and the inconveniently fertile, compulsory euthanasia of the unproductive old and compulsory abortion of the potentially defective unborn, mandatory exercise and weight control, regulation of diet, prescription of circumcision, prohibition of childbearing on genetic grounds (including family histories of schizophrenia and depression), infanticide, standardization of sexual practice and child-rearing - all of these ideas are public health policies to empower their advocates, extend longevity and enrich life and casualty insurance companies. Perhaps it may be time to ask just how much personal liberty Americans ought to be obliged to concede to these worthy causes. ['public health', 'control regulation', 'public health', 'insurance company']\n",
      "In addition, the department has agreed to modify its policies governing new admissions, he said. \"The defendants have at all times acted reasonably, without malice and with the good faith belief that their actions were lawful and not in violation of any constitution or statutory right,\" wrote John W. Bishop, a special assistant attorney general. The department has revised its regulations to restrict the use of seclusion and restraint to control inmates, he said. ['good faith', 'attorney general']\n",
      "The only adult bookstore now in operation is the Towers News Stand on Gorham street, a store on the fringe of the downtown business area that has stood there 20 years. They will be convinced that trying to do business here will take so much trouble it won't be worth the effort.\" The zoning approach would restrict adult bookstores and other pornography establishments to specially zoned areas of the city and forbid such storesfrom locating within a certain distance of similar stores or near churches, schools and other public facilities. Stores already in business would be exempted from the new regulations, says Martin, admissions director at University of Lowell, \"but they would be dealt with by picketing.\" The regulations \"would make it so difficult for a new pornography store to open that the owners will change their minds about opening here,\" says Larry Martin, a former member of the City Council and now a leader in the drive. \" ['public facility', 'new regulation', 'former member']\n",
      "A member of the Asian Advisory Board of the MAC consulting firm and a former director of the Winsor School, he had visited the People's Republic of China three times since 1979 to study transportation problems and recommend improved management methods. A member of the Harvard Business faculty since 1972, he was known for studies, writings and speeches concerning transportation management and deregulation in the United States. Born in Santa Monica, Calif., Prof. Wyckoff resided in Marblehead. ['transportation management']\n",
      "Meanwhile three proposals are before the federal Energy RegulatoryCommission to import three times that amount of gas - up to 1.3 billion cubic feet of gas daily - from Alberta. That remark, though, and the meetings with utility executives and state regulators that have followed, have had a chilling effect and \"changed the atmosphere\" in the talks that were ongoing, says Hydro- Quebec vice president Bernard Guertin. The issues, Hodel and his aides have said, are these:     - Can this power be reliably imported over a distance of 1500 miles fromfrom Hydro-Quebec's multibillion-dollar James Bay hydroelectric power project on the edge of the Arctic tundra? The competition, however, includes two pipeline-company combines that propose major construction projects, each worth $1 billion, to bring the gas in via the Midwest. Already a year of \"pre-hearing conferences\" have been held in Washington and at least six months of formal hearings will begin later this year. The Algonqiun group had 30 percent and was scrapping for the rest. he commented to an industry newsletter interviewer. This rivalry is resulting in prolonged regulatory proceedings. One contender is a loose coalition including the Boston-based Boundary Gas Project, a consortium of 15 utilities, which wants to import at Niagara Falls, N.Y., for broad distribution on the East Coast. ['hydroelectric power project', 'construction project']\n",
      "STATE HOUSE ROUNDUP     Standards for staffing and treatment programs at outpatient treatment centers for alcoholism have been established by the state Public Health Council. Outpatient alcoholism centers run by hospitals will have to adopt the codes, he said after the Public Health Council approved the regulations yesterday. The regulations, the first developed for the treatment centers, will apply to more than 50 ambulatory care centers statewide, said state Division of Alcoholism Director Edward Blacker. ['Public Health', 'Public Health', 'ambulatory care']\n",
      "She noted that the benefits of desegregation do not appear until a plan has been in place for several years, and she criticized the shift of federal desegregation funds to the states, which are no longer required to use them for that purpose. The 55-page study was published by the Joint Center for Political Studies, a national non-profit institution that studies issues of special concern to black Americans. In fact, the changing regulations undercut voluntary desegregation programs, Hochschild said. ['non profit', 'change regulation', 'desegregation program']\n",
      "Opening new recreational facilities accounts for much of the rest of the proposed increase. More inspectors and lawyers are to be hired to regulate landfills and hazardous-waste facilities, and to tighten control of home septic tanks in the vicinity of water supplies. Programs to control and reduce solid waste, chemical waste and radioactive waste - all of them potential threats to water resources - call for new managment positions on environmental payrolls. The programs will include development and enforcement of new landfill regulations and help for cities and towns faced with replacing landfills and dumps that won't meet those rules. ['hazardous waste', 'water supply', 'solid waste', 'radioactive waste', 'water resource']\n",
      "Meanwhile, Tierney denied that politics had anything to do with the assignments. In other committee appointments, Tierney renamed District Councilor James E. Byrne (Dorchester) head of the Government Finance Committee; District Councilor Thomas M. Menino (Hyde Park- Roslindale) head of the Planning and Development Committee; Councilor at Large Albert L. O'Neil head of the Public Safety Committee; District Councilor James Kelly (Chinatown-South Boston- South End) head of the Housing Committee; and District Councilor Brian J. McLaughlin (Allston-Brighton) head of the Government Regulations Committee. Tierney also made District Councilor David Scondras (Back Bay- Beacon Hill- Fenway-Mission Hill) chairman of the Arson and Intergovernmental Relations Committees; District Councilor Bruce C. Bolling (Roxbury) was made chairman of the Post Audit and Oversight Committee; District Councilor Charles C. Yancey (Mattapan) was made chairman of the Neighborhood Services Committee, and McCormack was made chairman of the Revenue Committee. ['Public Safety']\n",
      "(He said the plant has complied with all environmental regulations on reporting methyl isocyanate leaks.) The 21-page internal document, though it declared that \"no imminent hazards requiring immediate correction were noted,\" cited a host of safety problems, including two \"major concerns,\" with handling of methyl isocyanate at the Institute, W.Va., (The Associated Press reported that Robert Oldford, president of Union Carbide's agricultural products subsidiary, said in a statement released in Danbury, Conn., that the West Virginia plant leaks were \"minor and represented no danger to the local community.\" ['agricultural product']\n",
      "The company also failed to maintain records or other documents required by the regulations, she said. \" The EPA also charges Chemical Waste Management - a subsidiary of Waste Management Inc., the world's largest waste handler - stored PCBs and PCB- contaminated materials in open lagoons and tanks that did not meet federal storage requirements, Donohua said. Chemical Waste Management spokesman Bob Reincke said no environmental damage was caused at the site. \" The agency filed a civil administrative complaint with EPA's regional hearing clerk yesterday, alleging that the toxic-waste handler violated federal regulations governing the \"use, record keeping and marking of PCBs between 1980 and 1983\" in storing the material. We believe that the collection of a substantial civil fine is justified given the history of serious violations at this facility,\" said William H. Sanders, director of the EPA's Region 5 Environmental Services Division, which includes Ohio. The agency charges that more than 6 million gallons of contaminated liquid later were sold by the company as reclaimed oil. The Environmental Protection Agency announced yesterday that it is seeking the largest toxic waste penalty in its history, $6.8 million, against Chemical Waste Management Inc. of suburban Oak Brook. The EPA contends Chemical Waste Management employees at the Vickery site illegally discharged high levels of PCBs into waste lagoons in an effort to dilute the PCBs and avoid the federal regulation requiring PCB fluids to be destroyed by incineration, Donohua said. After they were used for half a century as insulators and coolants in a variety of industrial products, primarily electric transformers, the EPA banned their production in 1976. ['Waste Management', 'Waste Management', 'storage requirement', 'Waste Management', 'environmental damage', 'federal regulation', 'civil fine', 'Environmental Protection Agency', 'Waste Management', 'Waste Management', 'federal regulation']\n",
      "Documents show the executives falsified their books to make it seem as if the purchase was for retirement watches, and also kept the incident secretfrom the Navy and the Securities and Exchange Commission - in apparent violation of SEC regulations and federal statutes concerning bribes and gratuities. News stories have reported that Electric Boat's general manager and an executive vice president of General Dynamics ordered a subordinate to buy expensive jewelry for Rickover and to deliver it to his office. Dingell has urged Lehman to suspend all General Dynamics contracts and to bar the company from doing any business with the government, in accordance with the laws' enforcement clauses. ['federal statute', 'law enforcement']\n",
      "However, the entrance to the school's music and drama room area cannot be locked because of fire safety regulations. Officials are re-evaluating security measures at the school, she said. \"I'm not sure what more we can do but we're certainly going to reassess it,\" Huttunen said. ['fire safety', 'security measure']\n",
      "Seabrook is 80 percent complete and the 16 utilities that own it are seeking permission from regulators to spend the estimated $1 billion it will take to finish the project. In a related development yesterday, the Massachusetts Department of Public Utilities refused a request by Atty. The two other firms are Kidder, Peabody &amp; Co. and Drexel Burnham Lambert. ['related development']\n",
      "The complaints have been particularly loud from farmers and ranchers forced to report how their tractors and pickup trucks are being used day by day. IN BRIEF     The Internal Revenue Service, trying to head off a growing protest against new record-keeping rules involving business vehicles, announced some exemptions from the regulations. ['pickup truck', 'Internal Revenue Service']\n"
     ]
    }
   ],
   "source": [
    "# Examine some examples\n",
    "for i in range(0,100):\n",
    "    if df_regSentsExpand['NounChunkMatchFiltered'][i]>0:\n",
    "        print(df_regSentsExpand['RegSentsExpand'][i],df_regSentsExpand['NounChunkMatchWordsFiltered'][i])"
   ]
  },
  {
   "cell_type": "code",
   "execution_count": 26,
   "metadata": {},
   "outputs": [],
   "source": [
    "df_regSentsExpand.to_pickle('/home/ec2-user/SageMaker/New Uncertainty/Jan1985-Dec2021/RegSentsExpand_NounChunks.pkl')"
   ]
  },
  {
   "cell_type": "markdown",
   "metadata": {},
   "source": [
    "## 3.2 Get monthly relevant article counts"
   ]
  },
  {
   "cell_type": "code",
   "execution_count": 31,
   "metadata": {},
   "outputs": [],
   "source": [
    "df_regSentsExpand=pd.read_pickle('/home/ec2-user/SageMaker/New Uncertainty/Jan1985-Dec2021/RegSentsExpand_NounChunks.pkl')"
   ]
  },
  {
   "cell_type": "code",
   "execution_count": 32,
   "metadata": {},
   "outputs": [
    {
     "name": "stdout",
     "output_type": "stream",
     "text": [
      "<class 'pandas.core.frame.DataFrame'>\n",
      "RangeIndex: 608172 entries, 0 to 608171\n",
      "Data columns (total 15 columns):\n",
      " #   Column                       Non-Null Count   Dtype         \n",
      "---  ------                       --------------   -----         \n",
      " 0   ID                           608172 non-null  object        \n",
      " 1   Title                        608172 non-null  object        \n",
      " 2   Type                         608172 non-null  object        \n",
      " 3   StartDate                    608172 non-null  datetime64[ns]\n",
      " 4   EndDate                      608172 non-null  object        \n",
      " 5   TextWordCount                608172 non-null  object        \n",
      " 6   PubTitle                     608172 non-null  object        \n",
      " 7   SourceType                   608172 non-null  object        \n",
      " 8   Year                         608172 non-null  float64       \n",
      " 9   Month                        608172 non-null  float64       \n",
      " 10  Newspaper                    608172 non-null  object        \n",
      " 11  RegSentsExpand               608172 non-null  object        \n",
      " 12  RegSentExpandLength          608172 non-null  int64         \n",
      " 13  NounChunkMatchFiltered       608172 non-null  int64         \n",
      " 14  NounChunkMatchWordsFiltered  608172 non-null  object        \n",
      "dtypes: datetime64[ns](1), float64(2), int64(2), object(10)\n",
      "memory usage: 69.6+ MB\n",
      "None\n"
     ]
    }
   ],
   "source": [
    "# Reg relevant articles\n",
    "df_reg=df_regSentsExpand[df_regSentsExpand['NounChunkMatchFiltered']>0].reset_index(drop=True)\n",
    "print(df_reg.info())"
   ]
  },
  {
   "cell_type": "code",
   "execution_count": 29,
   "metadata": {},
   "outputs": [
    {
     "name": "stdout",
     "output_type": "stream",
     "text": [
      "                Newspaper    Year  Month  RegRelevantCount\n",
      "0            Boston Globe  1985.0    1.0                83\n",
      "1            Boston Globe  1985.0    2.0                91\n",
      "2            Boston Globe  1985.0    3.0               103\n",
      "3            Boston Globe  1985.0    4.0                92\n",
      "4            Boston Globe  1985.0    5.0               112\n",
      "...                   ...     ...    ...               ...\n",
      "3052  Wall Street Journal  2021.0    8.0               433\n",
      "3053  Wall Street Journal  2021.0    9.0               464\n",
      "3054  Wall Street Journal  2021.0   10.0               503\n",
      "3055  Wall Street Journal  2021.0   11.0               478\n",
      "3056  Wall Street Journal  2021.0   12.0               488\n",
      "\n",
      "[3057 rows x 4 columns]\n"
     ]
    }
   ],
   "source": [
    "# Get monthly count\n",
    "df_monthly=df_reg.groupby(['Newspaper','Year','Month'])['ID'].count().reset_index(name=\"RegRelevantCount\")\n",
    "df_monthly=df_monthly.sort_values(['Newspaper','Year','Month']).reset_index(drop=True)\n",
    "print(df_monthly)"
   ]
  },
  {
   "cell_type": "code",
   "execution_count": 30,
   "metadata": {},
   "outputs": [],
   "source": [
    "df_monthly.to_csv('/home/ec2-user/SageMaker/New Uncertainty/Jan1985-Dec2021/RegRelevant_MonthlyArticleCount_Dec2021.csv',index=False)"
   ]
  },
  {
   "cell_type": "markdown",
   "metadata": {},
   "source": [
    "### 3.2.1. Original coverage"
   ]
  },
  {
   "cell_type": "code",
   "execution_count": 33,
   "metadata": {},
   "outputs": [
    {
     "name": "stdout",
     "output_type": "stream",
     "text": [
      "Wall Street Journal                        99838\n",
      "New York Times (Online)                    89010\n",
      "New York Times                             75616\n",
      "Wall Street Journal (Online)               69036\n",
      "The Washington Post                        41440\n",
      "Los Angeles Times                          36955\n",
      "Los Angeles Times (pre-1997 Fulltext)      36798\n",
      "Chicago Tribune                            28868\n",
      "Boston Globe                               27113\n",
      "Chicago Tribune (pre-1997 Fulltext)        23236\n",
      "The Washington Post (pre-1997 Fulltext)    20734\n",
      "Boston Globe (pre-1997 Fulltext)           13366\n",
      "USA TODAY                                  11175\n",
      "The Washington Post (Online)               10531\n",
      "USA TODAY (pre-1997 Fulltext)               6079\n",
      "USA Today (Online)                          5259\n",
      "Los Angeles Times (Online)                  4685\n",
      "Boston Globe (Online)                       4383\n",
      "Chicago Tribune (Online)                    4050\n",
      "Name: PubTitle, dtype: int64\n"
     ]
    }
   ],
   "source": [
    "print(df_reg['PubTitle'].value_counts())"
   ]
  },
  {
   "cell_type": "code",
   "execution_count": 34,
   "metadata": {},
   "outputs": [
    {
     "name": "stdout",
     "output_type": "stream",
     "text": [
      "Wall Street Journal                        99838\n",
      "New York Times                             75616\n",
      "Wall Street Journal (Online)               69036\n",
      "The Washington Post                        41440\n",
      "Los Angeles Times                          36955\n",
      "Los Angeles Times (pre-1997 Fulltext)      36798\n",
      "Chicago Tribune                            28868\n",
      "Boston Globe                               27113\n",
      "Chicago Tribune (pre-1997 Fulltext)        23236\n",
      "The Washington Post (pre-1997 Fulltext)    20734\n",
      "Boston Globe (pre-1997 Fulltext)           13366\n",
      "USA TODAY                                  11175\n",
      "USA TODAY (pre-1997 Fulltext)               6079\n",
      "USA Today (Online)                          5259\n",
      "Boston Globe (Online)                       4383\n",
      "Name: PubTitle, dtype: int64\n"
     ]
    }
   ],
   "source": [
    "df_reg=df_reg[(df_reg['PubTitle']!='Chicago Tribune (Online)')\n",
    "                & (df_reg['PubTitle']!='Los Angeles Times (Online)')\n",
    "                & (df_reg['PubTitle']!='New York Times (Online)')\n",
    "                & (df_reg['PubTitle'] != 'The Washington Post (Online)')].reset_index(drop=True)\n",
    "print(df_reg['PubTitle'].value_counts())"
   ]
  },
  {
   "cell_type": "code",
   "execution_count": 35,
   "metadata": {},
   "outputs": [
    {
     "name": "stdout",
     "output_type": "stream",
     "text": [
      "                Newspaper    Year  Month  RegRelevantCount\n",
      "0            Boston Globe  1985.0    1.0                83\n",
      "1            Boston Globe  1985.0    2.0                91\n",
      "2            Boston Globe  1985.0    3.0               103\n",
      "3            Boston Globe  1985.0    4.0                92\n",
      "4            Boston Globe  1985.0    5.0               112\n",
      "...                   ...     ...    ...               ...\n",
      "3052  Wall Street Journal  2021.0    8.0               433\n",
      "3053  Wall Street Journal  2021.0    9.0               464\n",
      "3054  Wall Street Journal  2021.0   10.0               503\n",
      "3055  Wall Street Journal  2021.0   11.0               478\n",
      "3056  Wall Street Journal  2021.0   12.0               488\n",
      "\n",
      "[3057 rows x 4 columns]\n"
     ]
    }
   ],
   "source": [
    "# Get monthly count\n",
    "df_monthly2=df_reg.groupby(['Newspaper','Year','Month'])['ID'].count().reset_index(name=\"RegRelevantCount\")\n",
    "df_monthly2=df_monthly2.sort_values(['Newspaper','Year','Month']).reset_index(drop=True)\n",
    "print(df_monthly2)"
   ]
  },
  {
   "cell_type": "code",
   "execution_count": 36,
   "metadata": {},
   "outputs": [],
   "source": [
    "df_monthly2.to_csv('/home/ec2-user/SageMaker/New Uncertainty/Jan1985-Dec2021/RegRelevant_MonthlyArticleCount_Dec2021_OriginalCoverage.csv',index=False)"
   ]
  },
  {
   "cell_type": "markdown",
   "metadata": {},
   "source": [
    "## 3.3 Noun Chunk Occurences acorss Regulation-related Articles"
   ]
  },
  {
   "cell_type": "code",
   "execution_count": 41,
   "metadata": {},
   "outputs": [
    {
     "name": "stdout",
     "output_type": "stream",
     "text": [
      "<class 'pandas.core.frame.DataFrame'>\n",
      "RangeIndex: 990262 entries, 0 to 990261\n",
      "Data columns (total 15 columns):\n",
      " #   Column                       Non-Null Count   Dtype         \n",
      "---  ------                       --------------   -----         \n",
      " 0   ID                           990262 non-null  object        \n",
      " 1   Title                        990262 non-null  object        \n",
      " 2   Type                         990262 non-null  object        \n",
      " 3   StartDate                    990262 non-null  datetime64[ns]\n",
      " 4   EndDate                      990262 non-null  object        \n",
      " 5   TextWordCount                990262 non-null  object        \n",
      " 6   PubTitle                     990262 non-null  object        \n",
      " 7   SourceType                   990262 non-null  object        \n",
      " 8   Year                         990262 non-null  float64       \n",
      " 9   Month                        990262 non-null  float64       \n",
      " 10  Newspaper                    990262 non-null  object        \n",
      " 11  RegSentsExpand               990262 non-null  object        \n",
      " 12  RegSentExpandLength          990262 non-null  int64         \n",
      " 13  NounChunkMatchFiltered       990262 non-null  int64         \n",
      " 14  NounChunkMatchWordsFiltered  990262 non-null  object        \n",
      "dtypes: datetime64[ns](1), float64(2), int64(2), object(10)\n",
      "memory usage: 113.3+ MB\n",
      "None\n"
     ]
    }
   ],
   "source": [
    "df_regSentsExpand=pd.read_pickle('/home/ec2-user/SageMaker/New Uncertainty/Jan1985-Dec2021/RegSentsExpand_NounChunks.pkl')\n",
    "print(df_regSentsExpand.info())"
   ]
  },
  {
   "cell_type": "code",
   "execution_count": 42,
   "metadata": {},
   "outputs": [
    {
     "name": "stdout",
     "output_type": "stream",
     "text": [
      "<class 'pandas.core.frame.DataFrame'>\n",
      "RangeIndex: 608172 entries, 0 to 608171\n",
      "Data columns (total 15 columns):\n",
      " #   Column                       Non-Null Count   Dtype         \n",
      "---  ------                       --------------   -----         \n",
      " 0   ID                           608172 non-null  object        \n",
      " 1   Title                        608172 non-null  object        \n",
      " 2   Type                         608172 non-null  object        \n",
      " 3   StartDate                    608172 non-null  datetime64[ns]\n",
      " 4   EndDate                      608172 non-null  object        \n",
      " 5   TextWordCount                608172 non-null  object        \n",
      " 6   PubTitle                     608172 non-null  object        \n",
      " 7   SourceType                   608172 non-null  object        \n",
      " 8   Year                         608172 non-null  float64       \n",
      " 9   Month                        608172 non-null  float64       \n",
      " 10  Newspaper                    608172 non-null  object        \n",
      " 11  RegSentsExpand               608172 non-null  object        \n",
      " 12  RegSentExpandLength          608172 non-null  int64         \n",
      " 13  NounChunkMatchFiltered       608172 non-null  int64         \n",
      " 14  NounChunkMatchWordsFiltered  608172 non-null  object        \n",
      "dtypes: datetime64[ns](1), float64(2), int64(2), object(10)\n",
      "memory usage: 69.6+ MB\n",
      "None\n"
     ]
    }
   ],
   "source": [
    "# Regulation-related articles\n",
    "df_reg=df_regSentsExpand[df_regSentsExpand['NounChunkMatchFiltered']>0].reset_index(drop=True)\n",
    "print(df_reg.info())"
   ]
  },
  {
   "cell_type": "code",
   "execution_count": null,
   "metadata": {},
   "outputs": [],
   "source": [
    "# Append all filtered noun chunks\n",
    "allMatchWords=[]\n",
    "for nc_list in df_reg['NounChunkMatchWordsFiltered']:\n",
    "    nc_list_lower=[nc.lower() for nc in nc_list]    #Convert to lower case\n",
    "    allMatchWords=allMatchWords+nc_list_lower\n",
    "print(len(allMatchWords), allMatchWords[0])"
   ]
  },
  {
   "cell_type": "code",
   "execution_count": null,
   "metadata": {},
   "outputs": [],
   "source": [
    "# Count each noun chunk\n",
    "allMatchWordsCount=Counter(allMatchWords)\n",
    "print(allMatchWordsCount)"
   ]
  },
  {
   "cell_type": "code",
   "execution_count": null,
   "metadata": {},
   "outputs": [],
   "source": [
    "# Convert to dataframe\n",
    "df_MatchWords = pd.DataFrame(allMatchWordsCount.items(),columns = ['Noun Chunks','Occurences'])\n",
    "print(df_MatchWords.info())"
   ]
  },
  {
   "cell_type": "code",
   "execution_count": null,
   "metadata": {},
   "outputs": [],
   "source": [
    "df_MatchWords=df_MatchWords.sort_values('Occurences',ascending=False).reset_index(drop=True)\n",
    "print(df_MatchWords.head(10))"
   ]
  },
  {
   "cell_type": "code",
   "execution_count": null,
   "metadata": {},
   "outputs": [],
   "source": [
    "# Export noun chunk occurences\n",
    "df_MatchWords.to_csv('/home/ec2-user/SageMaker/New Uncertainty/Jan1985-Dec2021/RegSentsExpand_FilteredNounChunkOccurences.csv',index=False)"
   ]
  },
  {
   "cell_type": "code",
   "execution_count": null,
   "metadata": {},
   "outputs": [],
   "source": []
  }
 ],
 "metadata": {
  "kernelspec": {
   "display_name": "my_py",
   "language": "python",
   "name": "my_py"
  },
  "language_info": {
   "codemirror_mode": {
    "name": "ipython",
    "version": 3
   },
   "file_extension": ".py",
   "mimetype": "text/x-python",
   "name": "python",
   "nbconvert_exporter": "python",
   "pygments_lexer": "ipython3",
   "version": "3.6.10"
  }
 },
 "nbformat": 4,
 "nbformat_minor": 4
}
