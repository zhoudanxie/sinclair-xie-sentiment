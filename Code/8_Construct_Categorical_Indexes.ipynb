{
 "cells": [
  {
   "cell_type": "code",
   "execution_count": 1,
   "metadata": {},
   "outputs": [],
   "source": [
    "import numpy as np\n",
    "import pandas as pd\n",
    "import datetime\n",
    "import statsmodels.formula.api as sm"
   ]
  },
  {
   "cell_type": "markdown",
   "metadata": {},
   "source": [
    "## 1. Import reg-relevant article sentiment scores"
   ]
  },
  {
   "cell_type": "code",
   "execution_count": 2,
   "metadata": {},
   "outputs": [
    {
     "name": "stdout",
     "output_type": "stream",
     "text": [
      "<class 'pandas.core.frame.DataFrame'>\n",
      "RangeIndex: 608172 entries, 0 to 608171\n",
      "Data columns (total 36 columns):\n",
      " #   Column                       Non-Null Count   Dtype  \n",
      "---  ------                       --------------   -----  \n",
      " 0   ID                           608172 non-null  int64  \n",
      " 1   Title                        608172 non-null  object \n",
      " 2   Type                         608172 non-null  object \n",
      " 3   StartDate                    608172 non-null  object \n",
      " 4   EndDate                      608172 non-null  object \n",
      " 5   TextWordCount                608172 non-null  int64  \n",
      " 6   PubTitle                     608172 non-null  object \n",
      " 7   SourceType                   608172 non-null  object \n",
      " 8   Year                         608172 non-null  float64\n",
      " 9   Month                        608172 non-null  float64\n",
      " 10  Newspaper                    608172 non-null  object \n",
      " 11  RegSentsExpand               608172 non-null  object \n",
      " 12  RegSentExpandLength          608172 non-null  int64  \n",
      " 13  NounChunkMatchFiltered       608172 non-null  int64  \n",
      " 14  NounChunkMatchWordsFiltered  608172 non-null  object \n",
      " 15  DistinctAreaCount            608172 non-null  object \n",
      " 16  DominantDistinctArea         608172 non-null  object \n",
      " 17  AllDistinctAreas             608172 non-null  object \n",
      " 18  DominantDistinctArea1        608172 non-null  int64  \n",
      " 19  DominantDistinctArea2        608172 non-null  int64  \n",
      " 20  DominantDistinctArea3        608172 non-null  int64  \n",
      " 21  DominantDistinctArea4        608172 non-null  int64  \n",
      " 22  DominantDistinctArea5        608172 non-null  int64  \n",
      " 23  DominantDistinctArea6        608172 non-null  int64  \n",
      " 24  DominantDistinctArea7        608172 non-null  int64  \n",
      " 25  DominantDistinctArea8        608172 non-null  int64  \n",
      " 26  DominantDistinctArea9        608172 non-null  int64  \n",
      " 27  DominantDistinctArea10       608172 non-null  int64  \n",
      " 28  DominantDistinctArea11       608172 non-null  int64  \n",
      " 29  DominantDistinctArea12       608172 non-null  int64  \n",
      " 30  DominantDistinctArea13       608172 non-null  int64  \n",
      " 31  DominantDistinctArea14       608172 non-null  int64  \n",
      " 32  UncertaintyScore             608172 non-null  float64\n",
      " 33  GIscore                      608172 non-null  float64\n",
      " 34  LMscore                      608172 non-null  float64\n",
      " 35  LSDscore                     608172 non-null  float64\n",
      "dtypes: float64(6), int64(18), object(12)\n",
      "memory usage: 167.0+ MB\n",
      "None\n"
     ]
    }
   ],
   "source": [
    "df=pd.read_csv('/home/ec2-user/SageMaker/New Uncertainty/Jan1985-Dec2021/RegArea_ArticleSentimentScores.csv')\n",
    "print(df.info())"
   ]
  },
  {
   "cell_type": "code",
   "execution_count": 3,
   "metadata": {},
   "outputs": [],
   "source": [
    "# Reformat data\n",
    "df['StartDate']=df['StartDate'].astype('datetime64[ns]')\n",
    "df['Year']=df['StartDate'].dt.year\n",
    "df['Month']=df['StartDate'].dt.month\n",
    "df['Newspaper']=df['Newspaper'].astype('category')\n",
    "#print(df.info())"
   ]
  },
  {
   "cell_type": "code",
   "execution_count": 4,
   "metadata": {},
   "outputs": [
    {
     "name": "stdout",
     "output_type": "stream",
     "text": [
      "        StartDate  Year  Month\n",
      "0      1985-01-01  1985      1\n",
      "1      1985-01-01  1985      1\n",
      "2      1985-01-01  1985      1\n",
      "3      1985-01-01  1985      1\n",
      "4      1985-01-01  1985      1\n",
      "...           ...   ...    ...\n",
      "608167 2021-12-31  2021     12\n",
      "608168 2021-12-31  2021     12\n",
      "608169 2021-12-31  2021     12\n",
      "608170 2021-12-31  2021     12\n",
      "608171 2021-12-31  2021     12\n",
      "\n",
      "[608172 rows x 3 columns]\n"
     ]
    }
   ],
   "source": [
    "# Specify index start date and end date\n",
    "start_date=datetime.datetime(1985,1,1)\n",
    "end_date=datetime.datetime(2021,12,31)\n",
    "end_month=end_date.strftime('%b%Y')\n",
    "\n",
    "df=df[(df['StartDate']>=start_date) & (df['StartDate']<=end_date)].sort_values('StartDate').reset_index(drop=True)\n",
    "print(df[['StartDate','Year','Month']])"
   ]
  },
  {
   "cell_type": "code",
   "execution_count": 5,
   "metadata": {},
   "outputs": [
    {
     "name": "stdout",
     "output_type": "stream",
     "text": [
      "     Year  Month   YM\n",
      "0    1985      1    1\n",
      "1    1985      2    2\n",
      "2    1985      3    3\n",
      "3    1985      4    4\n",
      "4    1985      5    5\n",
      "..    ...    ...  ...\n",
      "439  2021      8  440\n",
      "440  2021      9  441\n",
      "441  2021     10  442\n",
      "442  2021     11  443\n",
      "443  2021     12  444\n",
      "\n",
      "[444 rows x 3 columns]\n"
     ]
    }
   ],
   "source": [
    "# Create year-month dataframe\n",
    "df_ym=df[['Year','Month']].drop_duplicates().sort_values(['Year','Month']).reset_index(drop=True).reset_index()\n",
    "df_ym['YM']=df_ym['index']+1\n",
    "df_ym['YM']=df_ym['YM'].astype('str')\n",
    "df_ym=df_ym.drop('index',axis=1)\n",
    "print(df_ym)"
   ]
  },
  {
   "cell_type": "code",
   "execution_count": 6,
   "metadata": {},
   "outputs": [
    {
     "name": "stdout",
     "output_type": "stream",
     "text": [
      "<class 'pandas.core.frame.DataFrame'>\n",
      "RangeIndex: 608172 entries, 0 to 608171\n",
      "Data columns (total 37 columns):\n",
      " #   Column                       Non-Null Count   Dtype         \n",
      "---  ------                       --------------   -----         \n",
      " 0   ID                           608172 non-null  int64         \n",
      " 1   Title                        608172 non-null  object        \n",
      " 2   Type                         608172 non-null  object        \n",
      " 3   StartDate                    608172 non-null  datetime64[ns]\n",
      " 4   EndDate                      608172 non-null  object        \n",
      " 5   TextWordCount                608172 non-null  int64         \n",
      " 6   PubTitle                     608172 non-null  object        \n",
      " 7   SourceType                   608172 non-null  object        \n",
      " 8   Year                         608172 non-null  int64         \n",
      " 9   Month                        608172 non-null  int64         \n",
      " 10  Newspaper                    608172 non-null  category      \n",
      " 11  RegSentsExpand               608172 non-null  object        \n",
      " 12  RegSentExpandLength          608172 non-null  int64         \n",
      " 13  NounChunkMatchFiltered       608172 non-null  int64         \n",
      " 14  NounChunkMatchWordsFiltered  608172 non-null  object        \n",
      " 15  DistinctAreaCount            608172 non-null  object        \n",
      " 16  DominantDistinctArea         608172 non-null  object        \n",
      " 17  AllDistinctAreas             608172 non-null  object        \n",
      " 18  DominantDistinctArea1        608172 non-null  int64         \n",
      " 19  DominantDistinctArea2        608172 non-null  int64         \n",
      " 20  DominantDistinctArea3        608172 non-null  int64         \n",
      " 21  DominantDistinctArea4        608172 non-null  int64         \n",
      " 22  DominantDistinctArea5        608172 non-null  int64         \n",
      " 23  DominantDistinctArea6        608172 non-null  int64         \n",
      " 24  DominantDistinctArea7        608172 non-null  int64         \n",
      " 25  DominantDistinctArea8        608172 non-null  int64         \n",
      " 26  DominantDistinctArea9        608172 non-null  int64         \n",
      " 27  DominantDistinctArea10       608172 non-null  int64         \n",
      " 28  DominantDistinctArea11       608172 non-null  int64         \n",
      " 29  DominantDistinctArea12       608172 non-null  int64         \n",
      " 30  DominantDistinctArea13       608172 non-null  int64         \n",
      " 31  DominantDistinctArea14       608172 non-null  int64         \n",
      " 32  UncertaintyScore             608172 non-null  float64       \n",
      " 33  GIscore                      608172 non-null  float64       \n",
      " 34  LMscore                      608172 non-null  float64       \n",
      " 35  LSDscore                     608172 non-null  float64       \n",
      " 36  YM                           608172 non-null  object        \n",
      "dtypes: category(1), datetime64[ns](1), float64(4), int64(20), object(11)\n",
      "memory usage: 167.6+ MB\n",
      "None\n"
     ]
    }
   ],
   "source": [
    "# Merge year-month dataframe\n",
    "df=df.merge(df_ym[['Year','Month','YM']],on=['Year','Month'],how='left').sort_values(['Year','Month']).reset_index(drop=True)\n",
    "print(df.info())"
   ]
  },
  {
   "cell_type": "markdown",
   "metadata": {},
   "source": [
    "## 2. Estimate categorical indexes"
   ]
  },
  {
   "cell_type": "code",
   "execution_count": 7,
   "metadata": {},
   "outputs": [],
   "source": [
    "df=df.rename(columns={'UncertaintyScore':'Uncertaintyscore'})"
   ]
  },
  {
   "cell_type": "code",
   "execution_count": 8,
   "metadata": {},
   "outputs": [],
   "source": [
    "YM_list=df_ym['YM'].tolist()\n",
    "#print(YM_list)"
   ]
  },
  {
   "cell_type": "code",
   "execution_count": 9,
   "metadata": {},
   "outputs": [],
   "source": [
    "# Define a function (suppressing constant) to estimate categorical index\n",
    "def estimate_categorical_index(score, area):\n",
    "    df_area=df[df[area]==1].reset_index(drop=True)\n",
    "    FE_OLS=sm.ols(formula=score + ' ~ 0+C(YM)+C(Newspaper)', data=df_area).fit()\n",
    "    #print(FE_OLS.summary())\n",
    "\n",
    "    FE_estimates=pd.DataFrame()\n",
    "    new_var=score.split('score')[0]+'_'+area\n",
    "    FE_estimates[new_var]=FE_OLS.params[0:len(df_ym)]\n",
    "    FE_estimates=FE_estimates.reset_index().rename(columns={'index':'FE'})\n",
    "    FE_estimates['YM']=FE_estimates['FE'].str.split(\"[\",expand=True)[1].str.split(\"]\",expand=True)[0]\n",
    "    \n",
    "    for value in FE_estimates['YM']:\n",
    "        if value not in YM_list:\n",
    "            FE_estimates=FE_estimates[FE_estimates['YM']!=value]\n",
    "    FE_estimates=FE_estimates.drop('FE',axis=1)\n",
    "    \n",
    "    return FE_estimates"
   ]
  },
  {
   "cell_type": "code",
   "execution_count": 10,
   "metadata": {},
   "outputs": [],
   "source": [
    "# List of columns for all areas\n",
    "area_range=15\n",
    "area_list=[]\n",
    "for i in range(1,area_range):\n",
    "    var='DominantDistinctArea'+str(i)\n",
    "    area_list.append(var)"
   ]
  },
  {
   "cell_type": "code",
   "execution_count": 11,
   "metadata": {},
   "outputs": [],
   "source": [
    "# Define another function (with constant) to estimate categorical index\n",
    "def estimate_categorical_index_constant(score, area):\n",
    "    df_area=df[df[area]==1].reset_index(drop=True)\n",
    "    FE_OLS=sm.ols(formula=score + ' ~ C(YM)+C(Newspaper)', data=df_area).fit()\n",
    "    #print(FE_OLS.summary())\n",
    "\n",
    "    FE_estimates=pd.DataFrame()\n",
    "    new_var=score.split('score')[0]+'_'+area\n",
    "    FE_estimates['coef']=FE_OLS.params[0:len(df_ym)]\n",
    "    FE_estimates=FE_estimates.reset_index().rename(columns={'index':'FE'})\n",
    "    \n",
    "    for value in FE_estimates['FE']:\n",
    "        if ('YM' not in value) & ('Intercept' not in value):\n",
    "            FE_estimates=FE_estimates[FE_estimates['YM']!=value]\n",
    "    \n",
    "    intercept=FE_estimates[FE_estimates['FE']=='Intercept']['coef'].values\n",
    "    FE_estimates.loc[FE_estimates['FE']!='Intercept',new_var]=FE_estimates.loc[FE_estimates['FE']!='Intercept','coef']+intercept\n",
    "    FE_estimates.loc[FE_estimates['FE']=='Intercept',new_var]=FE_estimates.loc[FE_estimates['FE']=='Intercept','coef']\n",
    "    FE_estimates.loc[FE_estimates['FE']=='Intercept','FE']='C(YM)[T.1]'\n",
    "    FE_estimates=FE_estimates[['FE',new_var]].reset_index(drop=True)\n",
    "    FE_estimates['YM']=FE_estimates['FE'].str.split(\"T.\",expand=True)[1].str.split(\"]\",expand=True)[0]\n",
    "    FE_estimates=FE_estimates.drop('FE',axis=1)\n",
    "    \n",
    "    return FE_estimates"
   ]
  },
  {
   "cell_type": "code",
   "execution_count": 12,
   "metadata": {},
   "outputs": [],
   "source": [
    "# Categorical Uncertainty Index\n",
    "CategoricalUncertaintyIndex=df_ym\n",
    "for area in area_list:\n",
    "    try:\n",
    "        estimates=estimate_categorical_index('Uncertaintyscore', area)\n",
    "        CategoricalUncertaintyIndex=CategoricalUncertaintyIndex.merge(estimates,on='YM',how='left')\n",
    "    except:\n",
    "        print(\"Failed:\",area)\n",
    "        estimates=estimate_categorical_index_constant('Uncertaintyscore', area)\n",
    "        CategoricalUncertaintyIndex=CategoricalUncertaintyIndex.merge(estimates,on='YM',how='left')"
   ]
  },
  {
   "cell_type": "code",
   "execution_count": 13,
   "metadata": {},
   "outputs": [
    {
     "name": "stdout",
     "output_type": "stream",
     "text": [
      "<class 'pandas.core.frame.DataFrame'>\n",
      "Int64Index: 444 entries, 0 to 443\n",
      "Data columns (total 17 columns):\n",
      " #   Column                              Non-Null Count  Dtype  \n",
      "---  ------                              --------------  -----  \n",
      " 0   Year                                444 non-null    int64  \n",
      " 1   Month                               444 non-null    int64  \n",
      " 2   YM                                  444 non-null    object \n",
      " 3   Uncertainty_DominantDistinctArea1   444 non-null    float64\n",
      " 4   Uncertainty_DominantDistinctArea2   444 non-null    float64\n",
      " 5   Uncertainty_DominantDistinctArea3   444 non-null    float64\n",
      " 6   Uncertainty_DominantDistinctArea4   444 non-null    float64\n",
      " 7   Uncertainty_DominantDistinctArea5   444 non-null    float64\n",
      " 8   Uncertainty_DominantDistinctArea6   444 non-null    float64\n",
      " 9   Uncertainty_DominantDistinctArea7   444 non-null    float64\n",
      " 10  Uncertainty_DominantDistinctArea8   444 non-null    float64\n",
      " 11  Uncertainty_DominantDistinctArea9   444 non-null    float64\n",
      " 12  Uncertainty_DominantDistinctArea10  444 non-null    float64\n",
      " 13  Uncertainty_DominantDistinctArea11  444 non-null    float64\n",
      " 14  Uncertainty_DominantDistinctArea12  444 non-null    float64\n",
      " 15  Uncertainty_DominantDistinctArea13  444 non-null    float64\n",
      " 16  Uncertainty_DominantDistinctArea14  443 non-null    float64\n",
      "dtypes: float64(14), int64(2), object(1)\n",
      "memory usage: 62.4+ KB\n",
      "None\n"
     ]
    }
   ],
   "source": [
    "print(CategoricalUncertaintyIndex.info())"
   ]
  },
  {
   "cell_type": "code",
   "execution_count": 14,
   "metadata": {},
   "outputs": [
    {
     "name": "stdout",
     "output_type": "stream",
     "text": [
      "   Year  Month  Uncertainty_DominantDistinctArea1  \\\n",
      "0  1985      1                           0.734827   \n",
      "1  1985      2                           0.669878   \n",
      "2  1985      3                           0.680366   \n",
      "3  1985      4                           0.637691   \n",
      "4  1985      5                           0.651844   \n",
      "\n",
      "   Uncertainty_DominantDistinctArea2  \n",
      "0                           0.670121  \n",
      "1                           0.729419  \n",
      "2                           0.747894  \n",
      "3                           0.575533  \n",
      "4                           0.601764  \n"
     ]
    }
   ],
   "source": [
    "print(CategoricalUncertaintyIndex[['Year','Month','Uncertainty_DominantDistinctArea1',\n",
    "                                   'Uncertainty_DominantDistinctArea2']].head())"
   ]
  },
  {
   "cell_type": "code",
   "execution_count": 15,
   "metadata": {},
   "outputs": [],
   "source": [
    "CategoricalUncertaintyIndex.to_csv('/home/ec2-user/SageMaker/New Uncertainty/Jan1985-Dec2021/RegArea_MonthlyUncertaintyIndex_'+str(end_month)+'.csv',index=False)"
   ]
  },
  {
   "cell_type": "code",
   "execution_count": 16,
   "metadata": {},
   "outputs": [],
   "source": [
    "# Categorical sentiment indexes\n",
    "for dict in ['GI','LM','LSD']:\n",
    "    CategoricalSentimentIndex=df_ym\n",
    "    for area in area_list:\n",
    "        try:\n",
    "            estimates=estimate_categorical_index(dict+'score', area)\n",
    "            CategoricalSentimentIndex=CategoricalSentimentIndex.merge(estimates,on='YM',how='left')\n",
    "        except:\n",
    "            print(\"Failed:\",dict+\":\"+area)\n",
    "            estimates=estimate_categorical_index_constant(dict+'score', area)\n",
    "            CategoricalSentimentIndex=CategoricalSentimentIndex.merge(estimates,on='YM',how='left')        \n",
    "    CategoricalSentimentIndex.to_csv('/home/ec2-user/SageMaker/New Uncertainty/Jan1985-Dec2021/RegArea_Monthly'+dict+'Index_'+str(end_month)+'.csv',index=False)"
   ]
  },
  {
   "cell_type": "code",
   "execution_count": null,
   "metadata": {},
   "outputs": [],
   "source": []
  }
 ],
 "metadata": {
  "kernelspec": {
   "display_name": "my_py",
   "language": "python",
   "name": "my_py"
  },
  "language_info": {
   "codemirror_mode": {
    "name": "ipython",
    "version": 3
   },
   "file_extension": ".py",
   "mimetype": "text/x-python",
   "name": "python",
   "nbconvert_exporter": "python",
   "pygments_lexer": "ipython3",
   "version": "3.6.10"
  }
 },
 "nbformat": 4,
 "nbformat_minor": 4
}
