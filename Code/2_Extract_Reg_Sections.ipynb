{
 "cells": [
  {
   "cell_type": "code",
   "execution_count": 1,
   "metadata": {},
   "outputs": [],
   "source": [
    "import pandas as pd\n",
    "import os\n",
    "import re\n",
    "import xml.etree.cElementTree as et\n",
    "from lxml import etree\n",
    "\n",
    "import spacy\n",
    "from spacy.lang.en import English"
   ]
  },
  {
   "cell_type": "code",
   "execution_count": 2,
   "metadata": {},
   "outputs": [
    {
     "name": "stdout",
     "output_type": "stream",
     "text": [
      "<class 'pandas.core.frame.DataFrame'>\n",
      "RangeIndex: 990262 entries, 0 to 990261\n",
      "Data columns (total 14 columns):\n",
      " #   Column          Non-Null Count   Dtype         \n",
      "---  ------          --------------   -----         \n",
      " 0   TextLemmatized  990262 non-null  object        \n",
      " 1   ID              990262 non-null  object        \n",
      " 2   Title           990262 non-null  object        \n",
      " 3   Type            990262 non-null  object        \n",
      " 4   StartDate       990262 non-null  datetime64[ns]\n",
      " 5   EndDate         990262 non-null  object        \n",
      " 6   Text            990262 non-null  object        \n",
      " 7   TextWordCount   990262 non-null  object        \n",
      " 8   PubTitle        990262 non-null  object        \n",
      " 9   SourceType      990262 non-null  object        \n",
      " 10  Year            990262 non-null  float64       \n",
      " 11  Month           990262 non-null  float64       \n",
      " 12  Newspaper       990262 non-null  object        \n",
      " 13  GroupNo         990262 non-null  int64         \n",
      "dtypes: datetime64[ns](1), float64(2), int64(1), object(10)\n",
      "memory usage: 105.8+ MB\n",
      "None\n"
     ]
    }
   ],
   "source": [
    "df=pd.read_pickle('/home/ec2-user/SageMaker/New Uncertainty/Jan1985-Dec2021/parsed_xml_clean.pkl')\n",
    "print(df.info())"
   ]
  },
  {
   "cell_type": "code",
   "execution_count": 3,
   "metadata": {},
   "outputs": [
    {
     "name": "stdout",
     "output_type": "stream",
     "text": [
      "Date range: 1985-01-01 00:00:00 2021-12-31 00:00:00\n"
     ]
    }
   ],
   "source": [
    "# Check date range\n",
    "print(\"Date range:\",min(df['StartDate']), max(df['StartDate']))"
   ]
  },
  {
   "cell_type": "code",
   "execution_count": 4,
   "metadata": {},
   "outputs": [],
   "source": [
    "# Function to remove multiple spaces\n",
    "def remove_spaces(text):\n",
    "    text=re.sub(' +',' ',text).strip()\n",
    "    text=text.replace('\\n',' ').replace('\\r',' ')\n",
    "    return text"
   ]
  },
  {
   "cell_type": "code",
   "execution_count": 5,
   "metadata": {},
   "outputs": [],
   "source": [
    "nlp = English()  # just the language with no model\n",
    "sentencizer = nlp.create_pipe(\"sentencizer\")\n",
    "nlp.add_pipe(sentencizer)"
   ]
  },
  {
   "cell_type": "code",
   "execution_count": 6,
   "metadata": {},
   "outputs": [],
   "source": [
    "# Function to print one XML example\n",
    "def print_xml(ID):\n",
    "    tree = etree.parse(filePath+ID+'.xml')\n",
    "    xml = etree.tostring(tree, encoding=\"unicode\", pretty_print=True)\n",
    "    print(xml)"
   ]
  },
  {
   "cell_type": "code",
   "execution_count": 7,
   "metadata": {},
   "outputs": [],
   "source": [
    "# Function to remove html tags from a string\n",
    "def remove_html_tags(text):\n",
    "    clean = re.compile('<.*?>')\n",
    "    return re.sub(clean, '', text)"
   ]
  },
  {
   "cell_type": "code",
   "execution_count": 15,
   "metadata": {},
   "outputs": [],
   "source": [
    "# Function to identify the sentence with \"*regulat*\" and a sentence before and after (expanded regulatory sentences)\n",
    "def extractSentenceBeforeAfter(text):\n",
    "    sentSet=set()\n",
    "    text=remove_spaces(text)\n",
    "    doc=nlp(text)\n",
    "    sentList=list(doc.sents)\n",
    "    for i in range(0, len(sentList)):\n",
    "        sent=sentList[i].text.strip()\n",
    "        if len(re.findall('regulat',sent,re.IGNORECASE))>0:\n",
    "            sentSet.add(sent)\n",
    "            if i>0:\n",
    "                sentSet.add(sentList[i-1].text.strip())\n",
    "            if i<len(sentList)-1:\n",
    "                sentSet.add(sentList[i+1].text.strip())\n",
    "    sentText=' '.join(sentSet)\n",
    "    return sentText"
   ]
  },
  {
   "cell_type": "code",
   "execution_count": null,
   "metadata": {},
   "outputs": [
    {
     "name": "stdout",
     "output_type": "stream",
     "text": [
      "990262\n"
     ]
    }
   ],
   "source": [
    "# Extract expanded regulatory sentences\n",
    "regsents_expand=[]\n",
    "for text in df['Text']:\n",
    "    new=extractSentenceBeforeAfter(text)\n",
    "    regsents_expand.append(new)\n",
    "print(len(regsents_expand))"
   ]
  },
  {
   "cell_type": "code",
   "execution_count": null,
   "metadata": {},
   "outputs": [
    {
     "name": "stdout",
     "output_type": "stream",
     "text": [
      "The second-biggest maker of heart devices said federal regulators cleared three new heart products, including two defibrillators. $6.36 8.9% Genentech Inc. stock surged to $77.96. $0.74 6% Shares of Boston Scientific Corp. increased to $13.05.\n",
      "A9 THE WORLD  Nobel Peace Prize Ethiopia's reformer prime minister, Abiy Ahmed, ended his nation's border standoff with Eritrea. You have to look beyond his canvases to see why. Arts &amp; Style  THE ECONOMY Boeing, FAA are faulted Regulators had \"inadequate awareness\" of a key system on the 737 Max airliner, a report says.\n"
     ]
    }
   ],
   "source": [
    "print(regsents_expand[0])\n",
    "print(regsents_expand[-1])"
   ]
  },
  {
   "cell_type": "code",
   "execution_count": 18,
   "metadata": {},
   "outputs": [],
   "source": [
    "df['RegSentsExpand']=regsents_expand"
   ]
  },
  {
   "cell_type": "code",
   "execution_count": 19,
   "metadata": {},
   "outputs": [
    {
     "name": "stdout",
     "output_type": "stream",
     "text": [
      "                ID  RegSentExpandLength\n",
      "623338  2222510549                46878\n",
      "139357  1824047135                38644\n",
      "379661  1824047069                38518\n",
      "315438  1872743297                35818\n",
      "139358  1798874942                28365\n",
      "255238  1859383206                27524\n",
      "447418  1845766676                25873\n",
      "392328  1886296496                25038\n",
      "379394  1867515064                24706\n",
      "379444  1857676896                24410\n"
     ]
    }
   ],
   "source": [
    "# Length of regulatory sections\n",
    "df['RegSentExpandLength']=df['RegSentsExpand'].str.len()\n",
    "print(df.sort_values('RegSentExpandLength',ascending=False)[['ID','RegSentExpandLength']].head(10))"
   ]
  },
  {
   "cell_type": "code",
   "execution_count": 29,
   "metadata": {},
   "outputs": [
    {
     "name": "stdout",
     "output_type": "stream",
     "text": [
      "# of articles with no \"*regulat*\" in full text: 46496\n"
     ]
    }
   ],
   "source": [
    "print('# of articles with no \"*regulat*\" in full text:',df[df['RegSentExpandLength']==0]['ID'].nunique())"
   ]
  },
  {
   "cell_type": "code",
   "execution_count": 22,
   "metadata": {},
   "outputs": [
    {
     "name": "stdout",
     "output_type": "stream",
     "text": [
      "<class 'pandas.core.frame.DataFrame'>\n",
      "RangeIndex: 990262 entries, 0 to 990261\n",
      "Data columns (total 16 columns):\n",
      " #   Column               Non-Null Count   Dtype         \n",
      "---  ------               --------------   -----         \n",
      " 0   TextLemmatized       990262 non-null  object        \n",
      " 1   ID                   990262 non-null  object        \n",
      " 2   Title                990262 non-null  object        \n",
      " 3   Type                 990262 non-null  object        \n",
      " 4   StartDate            990262 non-null  datetime64[ns]\n",
      " 5   EndDate              990262 non-null  object        \n",
      " 6   Text                 990262 non-null  object        \n",
      " 7   TextWordCount        990262 non-null  object        \n",
      " 8   PubTitle             990262 non-null  object        \n",
      " 9   SourceType           990262 non-null  object        \n",
      " 10  Year                 990262 non-null  float64       \n",
      " 11  Month                990262 non-null  float64       \n",
      " 12  Newspaper            990262 non-null  object        \n",
      " 13  GroupNo              990262 non-null  int64         \n",
      " 14  RegSentsExpand       990262 non-null  object        \n",
      " 15  RegSentExpandLength  990262 non-null  int64         \n",
      "dtypes: datetime64[ns](1), float64(2), int64(2), object(11)\n",
      "memory usage: 120.9+ MB\n",
      "None\n"
     ]
    }
   ],
   "source": [
    "# Sort df\n",
    "df=df.sort_values(['Newspaper','StartDate','Title']).reset_index(drop=True)\n",
    "print(df.info())"
   ]
  },
  {
   "cell_type": "code",
   "execution_count": 25,
   "metadata": {},
   "outputs": [],
   "source": [
    "df.drop(['TextLemmatized','Text','GroupNo'],axis=1).to_pickle('/home/ec2-user/SageMaker/New Uncertainty/Jan1985-Dec2021/allRegSentsExpand.pkl')"
   ]
  },
  {
   "cell_type": "code",
   "execution_count": null,
   "metadata": {},
   "outputs": [],
   "source": []
  }
 ],
 "metadata": {
  "kernelspec": {
   "display_name": "my_py",
   "language": "python",
   "name": "my_py"
  },
  "language_info": {
   "codemirror_mode": {
    "name": "ipython",
    "version": 3
   },
   "file_extension": ".py",
   "mimetype": "text/x-python",
   "name": "python",
   "nbconvert_exporter": "python",
   "pygments_lexer": "ipython3",
   "version": "3.6.10"
  }
 },
 "nbformat": 4,
 "nbformat_minor": 4
}
